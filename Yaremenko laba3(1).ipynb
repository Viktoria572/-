{
  "nbformat": 4,
  "nbformat_minor": 0,
  "metadata": {
    "colab": {
      "provenance": []
    },
    "kernelspec": {
      "name": "python3",
      "display_name": "Python 3"
    },
    "language_info": {
      "name": "python"
    }
  },
  "cells": [
    {
      "cell_type": "markdown",
      "source": [
        "# Практична робота № 3 Яременко Вікторія"
      ],
      "metadata": {
        "id": "PkojOSli0-p6"
      }
    },
    {
      "cell_type": "markdown",
      "source": [
        "Завдання 1. Прочитайте CSV файл (використовуйте метод read_csv):  \n",
        "Завдання 2. Виведіть перші п'ять рядків (використовується метод head):"
      ],
      "metadata": {
        "id": "wdZU8Y3a1EGC"
      }
    },
    {
      "cell_type": "code",
      "source": [
        "import pandas as pd\n",
        "import numpy as np\n",
        "\n",
        "df = pd.read_csv(\"/content/sample_data/Global YouTube Statistics.csv\", encoding='latin-1')\n",
        "df_head_5 = df.head(5)\n",
        "print(df_head_5)"
      ],
      "metadata": {
        "colab": {
          "base_uri": "https://localhost:8080/"
        },
        "id": "wuK_GUXB1FiD",
        "outputId": "96c9a56b-ccb1-4924-aee8-5d2a566871ec"
      },
      "execution_count": 5,
      "outputs": [
        {
          "output_type": "stream",
          "name": "stdout",
          "text": [
            "   rank                    Youtuber  subscribers   video views  \\\n",
            "0     1                    T-Series    245000000  2.280000e+11   \n",
            "1     2              YouTube Movies    170000000  0.000000e+00   \n",
            "2     3                     MrBeast    166000000  2.836884e+10   \n",
            "3     4  Cocomelon - Nursery Rhymes    162000000  1.640000e+11   \n",
            "4     5                   SET India    159000000  1.480000e+11   \n",
            "\n",
            "           category                       Title  uploads        Country  \\\n",
            "0             Music                    T-Series    20082          India   \n",
            "1  Film & Animation               youtubemovies        1  United States   \n",
            "2     Entertainment                     MrBeast      741  United States   \n",
            "3         Education  Cocomelon - Nursery Rhymes      966  United States   \n",
            "4             Shows                   SET India   116536          India   \n",
            "\n",
            "  Abbreviation   channel_type  ...  subscribers_for_last_30_days  \\\n",
            "0           IN          Music  ...                     2000000.0   \n",
            "1           US          Games  ...                           NaN   \n",
            "2           US  Entertainment  ...                     8000000.0   \n",
            "3           US      Education  ...                     1000000.0   \n",
            "4           IN  Entertainment  ...                     1000000.0   \n",
            "\n",
            "   created_year  created_month  created_date  \\\n",
            "0        2006.0            Mar          13.0   \n",
            "1        2006.0            Mar           5.0   \n",
            "2        2012.0            Feb          20.0   \n",
            "3        2006.0            Sep           1.0   \n",
            "4        2006.0            Sep          20.0   \n",
            "\n",
            "   Gross tertiary education enrollment (%)    Population  Unemployment rate  \\\n",
            "0                                     28.1  1.366418e+09               5.36   \n",
            "1                                     88.2  3.282395e+08              14.70   \n",
            "2                                     88.2  3.282395e+08              14.70   \n",
            "3                                     88.2  3.282395e+08              14.70   \n",
            "4                                     28.1  1.366418e+09               5.36   \n",
            "\n",
            "   Urban_population   Latitude  Longitude  \n",
            "0       471031528.0  20.593684  78.962880  \n",
            "1       270663028.0  37.090240 -95.712891  \n",
            "2       270663028.0  37.090240 -95.712891  \n",
            "3       270663028.0  37.090240 -95.712891  \n",
            "4       471031528.0  20.593684  78.962880  \n",
            "\n",
            "[5 rows x 28 columns]\n"
          ]
        }
      ]
    },
    {
      "cell_type": "markdown",
      "source": [
        "Завдання 3. Виведіть розміри датасету (використовуйте метод shape):"
      ],
      "metadata": {
        "id": "AeBDDULs1bu7"
      }
    },
    {
      "cell_type": "code",
      "source": [
        "print(df.shape)"
      ],
      "metadata": {
        "colab": {
          "base_uri": "https://localhost:8080/"
        },
        "id": "Hn-P8EtI1sWb",
        "outputId": "613ca674-2afb-409c-b31c-9820a4794e3e"
      },
      "execution_count": 6,
      "outputs": [
        {
          "output_type": "stream",
          "name": "stdout",
          "text": [
            "(995, 28)\n"
          ]
        }
      ]
    },
    {
      "cell_type": "markdown",
      "source": [
        "Завдання 4.  Перевірте, чи у всіх рядків вистачає даних: виведіть кількість пропусків  у кожному зі стовпців (використовуйте методи isna та sum).\n",
        "Якщо є пропуски, замінить їх на NaN, потім тип даних на числовий."
      ],
      "metadata": {
        "id": "4If7r5xu1wv6"
      }
    },
    {
      "cell_type": "code",
      "source": [
        "missing_values = df.isna().sum()\n",
        "\n",
        "# Заміна пропусків на NaN\n",
        "df.fillna(value=pd.np.nan, inplace=True)\n",
        "\n",
        "# Зміна типу даних на числовий\n",
        "df = df.apply(pd.to_numeric, errors='ignore')\n",
        "\n",
        "# Виведення кількості пропусків у кожному стовпці\n",
        "print(missing_values)"
      ],
      "metadata": {
        "colab": {
          "base_uri": "https://localhost:8080/"
        },
        "id": "78N3NRNJ2cYk",
        "outputId": "20de0f04-2e10-44ae-dbec-8a7015cb405c"
      },
      "execution_count": 17,
      "outputs": [
        {
          "output_type": "stream",
          "name": "stdout",
          "text": [
            "rank                                         0\n",
            "Youtuber                                   995\n",
            "subscribers                                  0\n",
            "video views                                  0\n",
            "category                                   995\n",
            "Title                                      995\n",
            "uploads                                      0\n",
            "Country                                    995\n",
            "Abbreviation                               995\n",
            "channel_type                               995\n",
            "video_views_rank                             0\n",
            "country_rank                                 0\n",
            "channel_type_rank                            0\n",
            "video_views_for_the_last_30_days             0\n",
            "lowest_monthly_earnings                      0\n",
            "highest_monthly_earnings                     0\n",
            "lowest_yearly_earnings                       0\n",
            "highest_yearly_earnings                      0\n",
            "subscribers_for_last_30_days                 0\n",
            "created_year                                 0\n",
            "created_month                              995\n",
            "created_date                                 0\n",
            "Gross tertiary education enrollment (%)      0\n",
            "Population                                   0\n",
            "Unemployment rate                            0\n",
            "Urban_population                             0\n",
            "Latitude                                     0\n",
            "Longitude                                    0\n",
            "dtype: int64\n"
          ]
        },
        {
          "output_type": "stream",
          "name": "stderr",
          "text": [
            "<ipython-input-17-827aa92707a4>:4: FutureWarning: The pandas.np module is deprecated and will be removed from pandas in a future version. Import numpy directly instead.\n",
            "  df.fillna(value=pd.np.nan, inplace=True)\n"
          ]
        }
      ]
    },
    {
      "cell_type": "markdown",
      "source": [
        "5. Замініть комірки з пропущеними значенями на середні за стовпцем. І тип даних на float."
      ],
      "metadata": {
        "id": "su36lct_4D1y"
      }
    },
    {
      "cell_type": "code",
      "source": [
        "df.fillna(df.mean(), inplace=True)\n",
        "\n",
        "# Зміна типу даних на float\n",
        "df = df.astype(float)\n",
        "\n",
        "# Виведення перших 5 рядків оновленого датасету\n",
        "print(df.head())"
      ],
      "metadata": {
        "colab": {
          "base_uri": "https://localhost:8080/"
        },
        "id": "6umvBgYA4GCz",
        "outputId": "4e2ed89f-c328-411f-e487-64d5bb33ce07"
      },
      "execution_count": 18,
      "outputs": [
        {
          "output_type": "stream",
          "name": "stdout",
          "text": [
            "   rank  Youtuber  subscribers   video views  category  Title   uploads  \\\n",
            "0   1.0       NaN  245000000.0  2.280000e+11       NaN    NaN   20082.0   \n",
            "1   2.0       NaN  170000000.0  0.000000e+00       NaN    NaN       1.0   \n",
            "2   3.0       NaN  166000000.0  2.836884e+10       NaN    NaN     741.0   \n",
            "3   4.0       NaN  162000000.0  1.640000e+11       NaN    NaN     966.0   \n",
            "4   5.0       NaN  159000000.0  1.480000e+11       NaN    NaN  116536.0   \n",
            "\n",
            "   Country  Abbreviation  channel_type  ...  subscribers_for_last_30_days  \\\n",
            "0      NaN           NaN           NaN  ...                  2.000000e+06   \n",
            "1      NaN           NaN           NaN  ...                  3.490791e+05   \n",
            "2      NaN           NaN           NaN  ...                  8.000000e+06   \n",
            "3      NaN           NaN           NaN  ...                  1.000000e+06   \n",
            "4      NaN           NaN           NaN  ...                  1.000000e+06   \n",
            "\n",
            "   created_year  created_month  created_date  \\\n",
            "0        2006.0            NaN          13.0   \n",
            "1        2006.0            NaN           5.0   \n",
            "2        2012.0            NaN          20.0   \n",
            "3        2006.0            NaN           1.0   \n",
            "4        2006.0            NaN          20.0   \n",
            "\n",
            "   Gross tertiary education enrollment (%)    Population  Unemployment rate  \\\n",
            "0                                     28.1  1.366418e+09               5.36   \n",
            "1                                     88.2  3.282395e+08              14.70   \n",
            "2                                     88.2  3.282395e+08              14.70   \n",
            "3                                     88.2  3.282395e+08              14.70   \n",
            "4                                     28.1  1.366418e+09               5.36   \n",
            "\n",
            "   Urban_population   Latitude  Longitude  \n",
            "0       471031528.0  20.593684  78.962880  \n",
            "1       270663028.0  37.090240 -95.712891  \n",
            "2       270663028.0  37.090240 -95.712891  \n",
            "3       270663028.0  37.090240 -95.712891  \n",
            "4       471031528.0  20.593684  78.962880  \n",
            "\n",
            "[5 rows x 28 columns]\n"
          ]
        }
      ]
    },
    {
      "cell_type": "markdown",
      "source": [
        "6. Ще раз перевірте кількість пропусків."
      ],
      "metadata": {
        "id": "TcYVV3B_4f5L"
      }
    },
    {
      "cell_type": "code",
      "source": [
        "missing_values = df.isna().sum()\n",
        "print(missing_values)"
      ],
      "metadata": {
        "colab": {
          "base_uri": "https://localhost:8080/"
        },
        "id": "6oBtyFiZ4iXM",
        "outputId": "aaa868a7-57f1-4349-fdbd-dc65f5de17fb"
      },
      "execution_count": 20,
      "outputs": [
        {
          "output_type": "stream",
          "name": "stdout",
          "text": [
            "rank                                         0\n",
            "Youtuber                                   995\n",
            "subscribers                                  0\n",
            "video views                                  0\n",
            "category                                   995\n",
            "Title                                      995\n",
            "uploads                                      0\n",
            "Country                                    995\n",
            "Abbreviation                               995\n",
            "channel_type                               995\n",
            "video_views_rank                             0\n",
            "country_rank                                 0\n",
            "channel_type_rank                            0\n",
            "video_views_for_the_last_30_days             0\n",
            "lowest_monthly_earnings                      0\n",
            "highest_monthly_earnings                     0\n",
            "lowest_yearly_earnings                       0\n",
            "highest_yearly_earnings                      0\n",
            "subscribers_for_last_30_days                 0\n",
            "created_year                                 0\n",
            "created_month                              995\n",
            "created_date                                 0\n",
            "Gross tertiary education enrollment (%)      0\n",
            "Population                                   0\n",
            "Unemployment rate                            0\n",
            "Urban_population                             0\n",
            "Latitude                                     0\n",
            "Longitude                                    0\n",
            "dtype: int64\n"
          ]
        }
      ]
    },
    {
      "cell_type": "markdown",
      "source": [
        "7. Перевірте, скільки унікальних країн представлено у колонці \"Country\""
      ],
      "metadata": {
        "id": "PYuQpSFc4vDq"
      }
    },
    {
      "cell_type": "code",
      "source": [
        "# Підрахунок кількості унікальних країн у колонці \"Country\"\n",
        "unique_countries = df['Country'].nunique()\n",
        "\n",
        "# Виведення кількості унікальних країн\n",
        "print(\"Кількість унікальних країн у колонці 'Country':\", unique_countries)"
      ],
      "metadata": {
        "colab": {
          "base_uri": "https://localhost:8080/"
        },
        "id": "lBAH9rnm4xLa",
        "outputId": "bea6030e-ca31-4145-ff4c-78ce3cb7023b"
      },
      "execution_count": 14,
      "outputs": [
        {
          "output_type": "stream",
          "name": "stdout",
          "text": [
            "Кількість унікальних країн у колонці 'Country': 0\n"
          ]
        }
      ]
    },
    {
      "cell_type": "markdown",
      "source": [
        "8. Побудуйте діаграму розподілу переглядів (використовуйте kind='hist'):"
      ],
      "metadata": {
        "id": "g6LjjXRc5tM1"
      }
    },
    {
      "cell_type": "code",
      "source": [
        "import matplotlib.pyplot as plt\n",
        "\n",
        "# Кількість елементів у стовпці \"Views\"\n",
        "num_elements = len(df['video views'])\n",
        "\n",
        "# Визначення кількості інтервалів (bins)\n",
        "bins = int(num_elements)\n",
        "\n",
        "# Побудова гістограми розподілу переглядів\n",
        "df['video views'].plot(kind='hist', bins=bins, edgecolor='black')\n",
        "\n",
        "# Налаштування назви графіку та осей\n",
        "plt.title('Розподіл переглядів')\n",
        "plt.xlabel('Перегляди')\n",
        "plt.ylabel('Частота')\n",
        "\n",
        "plt.show()"
      ],
      "metadata": {
        "colab": {
          "base_uri": "https://localhost:8080/",
          "height": 472
        },
        "id": "YWvsUuFV5vDU",
        "outputId": "b53ab558-2086-4612-9103-cad2a4406bba"
      },
      "execution_count": 22,
      "outputs": [
        {
          "output_type": "display_data",
          "data": {
            "text/plain": [
              "<Figure size 640x480 with 1 Axes>"
            ],
            "image/png": "[encoded data removed]"
          },
          "metadata": {}
        }
      ]
    },
    {
      "cell_type": "markdown",
      "source": [
        "9. Визначте максимальну, мінімальну, середню кількість переглядів (використовуйте методи max, min, mean)"
      ],
      "metadata": {
        "id": "e24pY1RP5_5q"
      }
    },
    {
      "cell_type": "code",
      "source": [
        "views_column_name = 'video views'\n",
        "\n",
        "max_views = df[views_column_name].max()\n",
        "\n",
        "min_views = df[views_column_name].min()\n",
        "\n",
        "mean_views = df[views_column_name].mean()\n",
        "\n",
        "# Виведення результатів\n",
        "print(\"Максимальна кількість переглядів:\", max_views)\n",
        "print(\"Мінімальна кількість переглядів:\", min_views)\n",
        "print(\"Середня кількість переглядів:\", mean_views)"
      ],
      "metadata": {
        "colab": {
          "base_uri": "https://localhost:8080/"
        },
        "id": "AVhH9knA6Hma",
        "outputId": "194d7a07-8f1a-4e62-b3ee-c0c6394b6222"
      },
      "execution_count": 24,
      "outputs": [
        {
          "output_type": "stream",
          "name": "stdout",
          "text": [
            "Максимальна кількість переглядів: 228000000000.0\n",
            "Мінімальна кількість переглядів: 0.0\n",
            "Середня кількість переглядів: 11039537052.03819\n"
          ]
        }
      ]
    },
    {
      "cell_type": "markdown",
      "source": [
        "10.Знайдіть країну, де найбільше відео було завантажено на YouTube"
      ],
      "metadata": {
        "id": "G6UI2Nb86RWs"
      }
    },
    {
      "cell_type": "code",
      "source": [
        "# Групуємо дані за країною і підраховуємо загальну кількість завантажень для кожної країни\n",
        "country_upload_counts = df.groupby('Country')['uploads'].sum()\n",
        "\n",
        "# Знаходимо країну з найбільшою кількістю завантажень\n",
        "country_with_most_uploads = country_upload_counts.idxmax()\n",
        "\n",
        "# Виводимо результат\n",
        "print(\"Країна з найбільшою кількістю завантажень на YouTube:\", country_with_most_uploads)"
      ],
      "metadata": {
        "id": "Cb9oJ5_Q6rT8"
      },
      "execution_count": null,
      "outputs": []
    },
    {
      "cell_type": "markdown",
      "source": [
        "11. Знайдіть відео (виведіть його назву) з найбільшою та найменшою кількістю завантажень uploads."
      ],
      "metadata": {
        "id": "N82T6q0q7KN7"
      }
    },
    {
      "cell_type": "code",
      "source": [
        "# Знаходження рядка з найбільшою кількістю завантажень\n",
        "max_uploads_video = df[df['uploads'] == df['uploads'].max()]['Youtuber'].values[0]\n",
        "\n",
        "# Виведення назви каналу з найбільшою кількістю завантажень\n",
        "print(\"Канал з найбільшою кількістю завантажень:\", max_uploads_video)\n",
        "\n",
        "# Знаходження рядка з найменшою кількістю завантажень\n",
        "min_uploads_video = df[df['uploads'] == df['uploads'].min()]['Youtuber'].values[0]\n",
        "\n",
        "# Виведення назви каналу з найменшою кількістю завантажень\n",
        "print(\"Канал з найменшою кількістю завантажень:\", min_uploads_video)"
      ],
      "metadata": {
        "colab": {
          "base_uri": "https://localhost:8080/"
        },
        "id": "UfYj1gyG7K47",
        "outputId": "0e235343-cc65-4607-b184-15202acb8635"
      },
      "execution_count": 29,
      "outputs": [
        {
          "output_type": "stream",
          "name": "stdout",
          "text": [
            "Канал з найбільшою кількістю завантажень: nan\n",
            "Канал з найменшою кількістю завантажень: nan\n"
          ]
        }
      ]
    },
    {
      "cell_type": "markdown",
      "source": [
        "Висновок: У цій практичній роботі я завантажила датасет з ресурсу Kaggle та прочитала його за допомогою бібліотеки Pandas у Python.\n",
        "\n",
        "Провела перевірку даних на наявність пропусків (порожніх значень) та замінила їх середніми значеннями по відповідним стовпцям.\n",
        "\n",
        "Визначила кількість унікальних країн, представлених у датасеті.\n",
        "\n",
        "Побудувала гістограму розподілу кількості переглядів відео.\n",
        "\n",
        "Визначила максимальну, мінімальну та середню кількість переглядів відео в датасеті.\n",
        "\n",
        "Знайшла країну, де найбільше відео було завантажено на YouTube.\n",
        "\n",
        "Знайшла відео з найбільшою та найменшою кількістю завантажень (\"uploads\")."
      ],
      "metadata": {
        "id": "rYlfYWPpA9MD"
      }
    },
    {
      "cell_type": "markdown",
      "source": [],
      "metadata": {
        "id": "BFTlzDA66OpM"
      }
    }
  ]
}