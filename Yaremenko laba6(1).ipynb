{
  "nbformat": 4,
  "nbformat_minor": 0,
  "metadata": {
    "colab": {
      "provenance": []
    },
    "kernelspec": {
      "name": "python3",
      "display_name": "Python 3"
    },
    "language_info": {
      "name": "python"
    }
  },
  "cells": [
    {
      "cell_type": "markdown",
      "source": [
        "# Яременко Вікторія Практична 6"
      ],
      "metadata": {
        "id": "AVgLy-H0k-4R"
      }
    },
    {
      "cell_type": "markdown",
      "source": [
        "1.Завантажити набір даних Iris з бібліотеки scikit-learn."
      ],
      "metadata": {
        "id": "riAqWrinlDfY"
      }
    },
    {
      "cell_type": "code",
      "source": [
        "from sklearn import datasets\n",
        "from sklearn.model_selection import train_test_split\n",
        "from sklearn.svm import SVC\n",
        "from sklearn.ensemble import RandomForestClassifier\n",
        "from sklearn.metrics import accuracy_score\n",
        "\n",
        "# Завантаження датасету Iris\n",
        "iris = datasets.load_iris()\n",
        "# Виведення опису набору даних\n",
        "print(iris.DESCR)\n",
        "\n",
        "X = iris.data  # Ознаки\n",
        "y = iris.target  # Класи"
      ],
      "metadata": {
        "colab": {
          "base_uri": "https://localhost:8080/"
        },
        "id": "F7PJiSh_lHEZ",
        "outputId": "97bb3803-35cf-49fd-cdeb-3ef7c1545e12"
      },
      "execution_count": 1,
      "outputs": [
        {
          "output_type": "stream",
          "name": "stdout",
          "text": [
            ".. _iris_dataset:\n",
            "\n",
            "Iris plants dataset\n",
            "--------------------\n",
            "\n",
            "**Data Set Characteristics:**\n",
            "\n",
            "    :Number of Instances: 150 (50 in each of three classes)\n",
            "    :Number of Attributes: 4 numeric, predictive attributes and the class\n",
            "    :Attribute Information:\n",
            "        - sepal length in cm\n",
            "        - sepal width in cm\n",
            "        - petal length in cm\n",
            "        - petal width in cm\n",
            "        - class:\n",
            "                - Iris-Setosa\n",
            "                - Iris-Versicolour\n",
            "                - Iris-Virginica\n",
            "                \n",
            "    :Summary Statistics:\n",
            "\n",
            "    ============== ==== ==== ======= ===== ====================\n",
            "                    Min  Max   Mean    SD   Class Correlation\n",
            "    ============== ==== ==== ======= ===== ====================\n",
            "    sepal length:   4.3  7.9   5.84   0.83    0.7826\n",
            "    sepal width:    2.0  4.4   3.05   0.43   -0.4194\n",
            "    petal length:   1.0  6.9   3.76   1.76    0.9490  (high!)\n",
            "    petal width:    0.1  2.5   1.20   0.76    0.9565  (high!)\n",
            "    ============== ==== ==== ======= ===== ====================\n",
            "\n",
            "    :Missing Attribute Values: None\n",
            "    :Class Distribution: 33.3% for each of 3 classes.\n",
            "    :Creator: R.A. Fisher\n",
            "    :Donor: Michael Marshall (MARSHALL%PLU@io.arc.nasa.gov)\n",
            "    :Date: July, 1988\n",
            "\n",
            "The famous Iris database, first used by Sir R.A. Fisher. The dataset is taken\n",
            "from Fisher's paper. Note that it's the same as in R, but not as in the UCI\n",
            "Machine Learning Repository, which has two wrong data points.\n",
            "\n",
            "This is perhaps the best known database to be found in the\n",
            "pattern recognition literature.  Fisher's paper is a classic in the field and\n",
            "is referenced frequently to this day.  (See Duda & Hart, for example.)  The\n",
            "data set contains 3 classes of 50 instances each, where each class refers to a\n",
            "type of iris plant.  One class is linearly separable from the other 2; the\n",
            "latter are NOT linearly separable from each other.\n",
            "\n",
            ".. topic:: References\n",
            "\n",
            "   - Fisher, R.A. \"The use of multiple measurements in taxonomic problems\"\n",
            "     Annual Eugenics, 7, Part II, 179-188 (1936); also in \"Contributions to\n",
            "     Mathematical Statistics\" (John Wiley, NY, 1950).\n",
            "   - Duda, R.O., & Hart, P.E. (1973) Pattern Classification and Scene Analysis.\n",
            "     (Q327.D83) John Wiley & Sons.  ISBN 0-471-22361-1.  See page 218.\n",
            "   - Dasarathy, B.V. (1980) \"Nosing Around the Neighborhood: A New System\n",
            "     Structure and Classification Rule for Recognition in Partially Exposed\n",
            "     Environments\".  IEEE Transactions on Pattern Analysis and Machine\n",
            "     Intelligence, Vol. PAMI-2, No. 1, 67-71.\n",
            "   - Gates, G.W. (1972) \"The Reduced Nearest Neighbor Rule\".  IEEE Transactions\n",
            "     on Information Theory, May 1972, 431-433.\n",
            "   - See also: 1988 MLC Proceedings, 54-64.  Cheeseman et al\"s AUTOCLASS II\n",
            "     conceptual clustering system finds 3 classes in the data.\n",
            "   - Many, many more ...\n"
          ]
        }
      ]
    },
    {
      "cell_type": "markdown",
      "source": [
        "2.Розділити дані на тренувальний та тестовий набори.  "
      ],
      "metadata": {
        "id": "8wm8BeeYlQha"
      }
    },
    {
      "cell_type": "code",
      "source": [
        "# Розділення набору даних на тренувальний і тестовий набори (70% навчальний, 30% тестовий)\n",
        "X_train, X_test, y_train, y_test = train_test_split(X, y, test_size=0.3, random_state=42)\n"
      ],
      "metadata": {
        "id": "cKdnV2QXlSuw"
      },
      "execution_count": 2,
      "outputs": []
    },
    {
      "cell_type": "markdown",
      "source": [
        "3.Застосувати алгоритм SVM для класифікації даних та визначити його точність."
      ],
      "metadata": {
        "id": "wE7ZDhual2YX"
      }
    },
    {
      "cell_type": "code",
      "source": [
        "svm_classifier = SVC(kernel='linear')  # Вибираємо ядро, у цьому випадку \"linear\"\n",
        "svm_classifier.fit(X_train, y_train)\n",
        "\n",
        "# Прогнозування класів для тестового набору даних за допомогою SVM\n",
        "svm_predictions = svm_classifier.predict(X_test)\n",
        "\n",
        "# Оцінка точності моделі\n",
        "svm_accuracy = accuracy_score(y_test, svm_predictions)\n",
        "print(\"Точність SVM:\", svm_accuracy)"
      ],
      "metadata": {
        "colab": {
          "base_uri": "https://localhost:8080/"
        },
        "id": "kgFjepnvl4bA",
        "outputId": "caaf23c5-8342-4574-804e-8a2e7cfc5a7c"
      },
      "execution_count": 3,
      "outputs": [
        {
          "output_type": "stream",
          "name": "stdout",
          "text": [
            "Точність SVM: 1.0\n"
          ]
        }
      ]
    },
    {
      "cell_type": "markdown",
      "source": [
        "4.Застосувати Random Forest для класифікації даних та визначити його точність."
      ],
      "metadata": {
        "id": "Nf7vZxLfmFaH"
      }
    },
    {
      "cell_type": "code",
      "source": [
        "# Створення та навчання моделі Random Forest\n",
        "rf_classifier = RandomForestClassifier(n_estimators=100, random_state=42)\n",
        "rf_classifier.fit(X_train, y_train)\n",
        "\n",
        "# Прогнозування класів для тестового набору даних за допомогою Random Forest\n",
        "rf_predictions = rf_classifier.predict(X_test)\n",
        "\n",
        "# Оцінка точності моделі\n",
        "rf_accuracy = accuracy_score(y_test, rf_predictions)\n",
        "print(\"Точність Random Forest:\", rf_accuracy)"
      ],
      "metadata": {
        "colab": {
          "base_uri": "https://localhost:8080/"
        },
        "id": "cmJ0EfM0mH2X",
        "outputId": "ee23f90c-5880-4ec4-c436-13e53c098173"
      },
      "execution_count": 4,
      "outputs": [
        {
          "output_type": "stream",
          "name": "stdout",
          "text": [
            "Точність Random Forest: 1.0\n"
          ]
        }
      ]
    },
    {
      "cell_type": "markdown",
      "source": [
        "5.Порівняти результати обох алгоритмів та обговорити їхню ефективність."
      ],
      "metadata": {
        "id": "MW4fwGNDmUYQ"
      }
    },
    {
      "cell_type": "code",
      "source": [
        "# Порівнюємо результати обох алгоритмів\n",
        "if svm_accuracy > rf_accuracy:\n",
        "    print(\"SVM є більш точним за Random Forest.\")\n",
        "elif svm_accuracy < rf_accuracy:\n",
        "    print(\"Random Forest є більш точним за SVM.\")\n",
        "else:\n",
        "    print(\"SVM і Random Forest мають однакову точність.\")"
      ],
      "metadata": {
        "colab": {
          "base_uri": "https://localhost:8080/"
        },
        "id": "ijKpNNPfmWlQ",
        "outputId": "39d5726c-6cc9-435e-a198-1f6a3813fd06"
      },
      "execution_count": 5,
      "outputs": [
        {
          "output_type": "stream",
          "name": "stdout",
          "text": [
            "SVM і Random Forest мають однакову точність.\n"
          ]
        }
      ]
    },
    {
      "cell_type": "markdown",
      "source": [
        "Висновок:В ході цієї практичної роботи я навчилася використовувати алгоритми машинного навчання, зокрема Support Vector Machine (SVM) і Random Forest, для класифікації даних на прикладі набору даних Iris. Ось деякі з основних висновків, які я зробила:\n",
        "\n",
        "Підготовка даних важлива, SVM і Random Forest мають різні властивості,Настройка параметрів важлива, Для визначення ефективності алгоритмів варто порівняти їхні результати на конкретному наборі даних."
      ],
      "metadata": {
        "id": "gdMNxW-PnCAY"
      }
    }
  ]
}