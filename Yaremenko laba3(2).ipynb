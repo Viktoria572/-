{
  "nbformat": 4,
  "nbformat_minor": 0,
  "metadata": {
    "colab": {
      "provenance": []
    },
    "kernelspec": {
      "name": "python3",
      "display_name": "Python 3"
    },
    "language_info": {
      "name": "python"
    }
  },
  "cells": [
    {
      "cell_type": "markdown",
      "source": [
        "# Практична робота № 3 Яременко Вікторія"
      ],
      "metadata": {
        "id": "j1f3GVX0B3eI"
      }
    },
    {
      "cell_type": "markdown",
      "source": [
        "1. Прочитайте csv файл (метод read_csv)\n",
        "2.Виведіть перші 10 рядків (метод head)"
      ],
      "metadata": {
        "id": "zd7dfnrFB49D"
      }
    },
    {
      "cell_type": "code",
      "source": [
        "import pandas as pd\n",
        "\n",
        "# Завантажте датасет\n",
        "file_path = \"/content/sample_data/bestsellers with categories.csv\"\n",
        "\n",
        "# Прочитайте csv файл\n",
        "df = pd.read_csv(file_path)\n",
        "print(df.head(10))"
      ],
      "metadata": {
        "colab": {
          "base_uri": "https://localhost:8080/"
        },
        "id": "83BMsqfuCsr4",
        "outputId": "725142b4-db58-4c49-ea31-3a57cff5af36"
      },
      "execution_count": 1,
      "outputs": [
        {
          "output_type": "stream",
          "name": "stdout",
          "text": [
            "                                                Name  \\\n",
            "0                      10-Day Green Smoothie Cleanse   \n",
            "1                                  11/22/63: A Novel   \n",
            "2            12 Rules for Life: An Antidote to Chaos   \n",
            "3                             1984 (Signet Classics)   \n",
            "4  5,000 Awesome Facts (About Everything!) (Natio...   \n",
            "5      A Dance with Dragons (A Song of Ice and Fire)   \n",
            "6  A Game of Thrones / A Clash of Kings / A Storm...   \n",
            "7                     A Gentleman in Moscow: A Novel   \n",
            "8      A Higher Loyalty: Truth, Lies, and Leadership   \n",
            "9                          A Man Called Ove: A Novel   \n",
            "\n",
            "                     Author  User Rating  Reviews  Price  Year        Genre  \n",
            "0                  JJ Smith          4.7    17350      8  2016  Non Fiction  \n",
            "1              Stephen King          4.6     2052     22  2011      Fiction  \n",
            "2        Jordan B. Peterson          4.7    18979     15  2018  Non Fiction  \n",
            "3             George Orwell          4.7    21424      6  2017      Fiction  \n",
            "4  National Geographic Kids          4.8     7665     12  2019  Non Fiction  \n",
            "5       George R. R. Martin          4.4    12643     11  2011      Fiction  \n",
            "6       George R. R. Martin          4.7    19735     30  2014      Fiction  \n",
            "7               Amor Towles          4.7    19699     15  2017      Fiction  \n",
            "8               James Comey          4.7     5983      3  2018  Non Fiction  \n",
            "9           Fredrik Backman          4.6    23848      8  2016      Fiction  \n"
          ]
        }
      ]
    },
    {
      "cell_type": "markdown",
      "source": [
        "3.Виведіть розміри датасету (метод shape)"
      ],
      "metadata": {
        "id": "ZvXU8TC9C87Z"
      }
    },
    {
      "cell_type": "code",
      "source": [
        "print(df.shape)\n",
        "books_amount = df.shape[0]\n",
        "print(\"Датасет зберігає кількість книг у розмірі:\", books_amount)"
      ],
      "metadata": {
        "colab": {
          "base_uri": "https://localhost:8080/"
        },
        "id": "KzWlQGyOC_b5",
        "outputId": "2027400b-0105-44d4-c4e0-d37d54ba3138"
      },
      "execution_count": 3,
      "outputs": [
        {
          "output_type": "stream",
          "name": "stdout",
          "text": [
            "(550, 7)\n",
            "Датасет зберігає кількість книг у розмірі: 550\n"
          ]
        }
      ]
    },
    {
      "cell_type": "markdown",
      "source": [
        "4. Змініть назви всіх колонок: назва з маленької букви, без пробілів через підкреслення."
      ],
      "metadata": {
        "id": "YagWegW1DYZI"
      }
    },
    {
      "cell_type": "code",
      "source": [
        "df.columns = ['name', 'author', 'user_rating', 'reviews', 'price', 'year', 'genre']\n",
        "\n",
        "# Виведіть перші 5 рядків для перевірки\n",
        "print(df.head())"
      ],
      "metadata": {
        "colab": {
          "base_uri": "https://localhost:8080/"
        },
        "id": "K1EpmZ4VDcRp",
        "outputId": "5c44e1d9-bc21-4567-d3cf-a7d99cf31b13"
      },
      "execution_count": 6,
      "outputs": [
        {
          "output_type": "stream",
          "name": "stdout",
          "text": [
            "                                                name  \\\n",
            "0                      10-Day Green Smoothie Cleanse   \n",
            "1                                  11/22/63: A Novel   \n",
            "2            12 Rules for Life: An Antidote to Chaos   \n",
            "3                             1984 (Signet Classics)   \n",
            "4  5,000 Awesome Facts (About Everything!) (Natio...   \n",
            "\n",
            "                     author  user_rating  reviews  price  year        genre  \n",
            "0                  JJ Smith          4.7    17350      8  2016  Non Fiction  \n",
            "1              Stephen King          4.6     2052     22  2011      Fiction  \n",
            "2        Jordan B. Peterson          4.7    18979     15  2018  Non Fiction  \n",
            "3             George Orwell          4.7    21424      6  2017      Fiction  \n",
            "4  National Geographic Kids          4.8     7665     12  2019  Non Fiction  \n"
          ]
        }
      ]
    },
    {
      "cell_type": "markdown",
      "source": [
        "5.Вивести кількість пропусків у кожному стовпчику."
      ],
      "metadata": {
        "id": "6O2EnttoEGqx"
      }
    },
    {
      "cell_type": "code",
      "source": [
        "missing_values = df.isnull().sum()\n",
        "print(missing_values)\n",
        "\n",
        "# Перевірте, чи є пропуски в змінних (Так / Ні)\n",
        "if missing_values.sum() > 0:\n",
        "    print(\"Так, є пропуски в змінних.\")\n",
        "else:\n",
        "    print(\"Ні, пропусків в змінних немає.\")"
      ],
      "metadata": {
        "colab": {
          "base_uri": "https://localhost:8080/"
        },
        "id": "2TFWcjTkEJ_q",
        "outputId": "4086e410-56a9-48ba-e22c-67d92a872cf0"
      },
      "execution_count": 8,
      "outputs": [
        {
          "output_type": "stream",
          "name": "stdout",
          "text": [
            "name           0\n",
            "author         0\n",
            "user_rating    0\n",
            "reviews        0\n",
            "price          0\n",
            "year           0\n",
            "genre          0\n",
            "dtype: int64\n",
            "Ні, пропусків в змінних немає.\n"
          ]
        }
      ]
    },
    {
      "cell_type": "markdown",
      "source": [
        "6. За допомогою методу unique  перевірте. Які є унікальні жанри в стовпці genre  "
      ],
      "metadata": {
        "id": "7qHrzxojEb65"
      }
    },
    {
      "cell_type": "code",
      "source": [
        "# Отримайте унікальні жанри зі стовпця \"genre\"\n",
        "unique_genres = df['genre'].unique()\n",
        "\n",
        "# Виведіть унікальні жанри\n",
        "print(\"Унікальні жанри:\")\n",
        "print(unique_genres)"
      ],
      "metadata": {
        "colab": {
          "base_uri": "https://localhost:8080/"
        },
        "id": "PYG3CMI8EdBJ",
        "outputId": "9c068d56-60cc-49d4-862c-3ac133b57b05"
      },
      "execution_count": 10,
      "outputs": [
        {
          "output_type": "stream",
          "name": "stdout",
          "text": [
            "Унікальні жанри:\n",
            "['Non Fiction' 'Fiction']\n"
          ]
        }
      ]
    },
    {
      "cell_type": "markdown",
      "source": [
        "7. Визначте максимальну, мінімальну, медіанну ціну за допомогою методів  max, min, mean, median"
      ],
      "metadata": {
        "id": "D0J5rH6QE2JQ"
      }
    },
    {
      "cell_type": "code",
      "source": [
        "# Максимальна ціна\n",
        "max_price = df['price'].max()\n",
        "\n",
        "# Мінімальна ціна\n",
        "min_price = df['price'].min()\n",
        "\n",
        "# Середня ціна\n",
        "mean_price = df['price'].mean()\n",
        "\n",
        "# Медіанна ціна\n",
        "median_price = df['price'].median()\n",
        "\n",
        "# Виведіть результати\n",
        "print(\"Максимальна ціна:\", max_price)\n",
        "print(\"Мінімальна ціна:\", min_price)\n",
        "print(\"Середня ціна:\", mean_price)\n",
        "print(\"Медіанна ціна:\", median_price)"
      ],
      "metadata": {
        "colab": {
          "base_uri": "https://localhost:8080/"
        },
        "id": "1-QBOq0_E7PL",
        "outputId": "2c6d16f6-3a2f-4e06-a230-0c5c643ccb25"
      },
      "execution_count": 12,
      "outputs": [
        {
          "output_type": "stream",
          "name": "stdout",
          "text": [
            "Максимальна ціна: 105\n",
            "Мінімальна ціна: 0\n",
            "Середня ціна: 13.1\n",
            "Медіанна ціна: 11.0\n"
          ]
        }
      ]
    },
    {
      "cell_type": "markdown",
      "source": [
        "8. Виконайте наступні завдання з пошуку і сортування даних"
      ],
      "metadata": {
        "id": "WlPj6cfrF1yY"
      }
    },
    {
      "cell_type": "code",
      "source": [
        "# Який рейтинг у датасеті найвищий?\n",
        "max_rating = df['user_rating'].max()\n",
        "print(\"Найвищий рейтинг у датасеті:\", max_rating)\n",
        "\n",
        "# Скільки книг мають такий рейтинг?\n",
        "books_with_max_rating = df[df['user_rating'] == max_rating]\n",
        "count_books_with_max_rating = len(books_with_max_rating)\n",
        "print(\"Кількість книг з таким рейтингом:\", count_books_with_max_rating)\n",
        "\n",
        "# Яка книга має найбільше відгуків?\n",
        "book_with_max_reviews = df[df['reviews'] == df['reviews'].max()]\n",
        "print(\"Книга яка має найбільше відгуків:\")\n",
        "print(book_with_max_reviews[['name', 'reviews']])\n",
        "\n",
        "# З тих книг, що потрапили до Топ-50 у 2010 році, яка книга найдорожча?\n",
        "books_2010 = df[df['year'] == 2010]\n",
        "most_expensive_2010 = books_2010[books_2010['price'] == books_2010['price'].max()]\n",
        "print(\"Найдорожча книга серед книг 2010 року що потрапили до Топ-50:\")\n",
        "print(most_expensive_2010[['name', 'price']])\n",
        "\n",
        "# Скільки книг жанру Fiction потрапили до Топ-50 у 2012 році?\n",
        "fiction_2012 = df[(df['year'] == 2012) & (df['genre'] == 'Fiction')]\n",
        "count_fiction_2012 = len(fiction_2012)\n",
        "print(\"Кількість книг жанру Fiction у 2012 році що потрапили до Топ-50:\", count_fiction_2012)\n",
        "\n",
        "# Скільки книг з рейтингом 4.9 потрапило до рейтингу у 2010 та 2011 роках (використовуйте | або метод isin)?\n",
        "rating_4_9_2010_2011 = df[(df['user_rating'] == 4.9) & (df['year'].isin([2010, 2011]))]\n",
        "count_rating_4_9_2010_2011 = len(rating_4_9_2010_2011)\n",
        "print(\"Кількість книг з рейтингом 4.9 у 2010 та 2011 роках:\", count_rating_4_9_2010_2011)"
      ],
      "metadata": {
        "colab": {
          "base_uri": "https://localhost:8080/"
        },
        "id": "8BA73zR_F7pB",
        "outputId": "2a90cf39-714a-44b5-8b33-edafff5b775b"
      },
      "execution_count": 16,
      "outputs": [
        {
          "output_type": "stream",
          "name": "stdout",
          "text": [
            "Найвищий рейтинг у датасеті: 4.9\n",
            "Кількість книг з таким рейтингом: 52\n",
            "Книга яка має найбільше відгуків:\n",
            "                        name  reviews\n",
            "534  Where the Crawdads Sing    87841\n",
            "Найдорожча книга серед книг 2010 року що потрапили до Топ-50:\n",
            "                                                  name  price\n",
            "272  Publication Manual of the American Psychologic...     46\n",
            "Кількість книг жанру Fiction у 2012 році що потрапили до Топ-50: 21\n",
            "Кількість книг з рейтингом 4.9 у 2010 та 2011 роках: 1\n"
          ]
        }
      ]
    },
    {
      "cell_type": "markdown",
      "source": [
        "9. Вивести максимальну і  мінімальну ціну для жанру Fiction I NonFiction (за допомогою методів  groupby та agg, для підрахунку мінімальних та максимальних значень використовуйте max та min). Використовуйте тількі потрібні вам стовпці."
      ],
      "metadata": {
        "id": "lYazMjRNHn67"
      }
    },
    {
      "cell_type": "code",
      "source": [
        "#  обчислюємо максимальну та мінімальну ціну для кожного жанру\n",
        "genre_prices = df.groupby('genre')['price'].agg(['max', 'min'])\n",
        "\n",
        "# Перейменовуємо стовпці\n",
        "genre_prices = genre_prices.rename(columns={'max': 'Максимальна ціна', 'min': 'Мінімальна ціна'})\n",
        "print(genre_prices)"
      ],
      "metadata": {
        "colab": {
          "base_uri": "https://localhost:8080/"
        },
        "id": "UOuQ3t51Ho0u",
        "outputId": "8691f55a-5243-464a-926e-bbee7173d527"
      },
      "execution_count": 19,
      "outputs": [
        {
          "output_type": "stream",
          "name": "stdout",
          "text": [
            "             Максимальна ціна  Мінімальна ціна\n",
            "genre                                         \n",
            "Fiction                    82                0\n",
            "Non Fiction               105                0\n"
          ]
        }
      ]
    },
    {
      "cell_type": "markdown",
      "source": [
        "Висновок: У цій практичній я вивчила основи роботи з даними в мові програмування Python.Основні завдання, які ми виконали, включали: Зчитування даних з CSV-файлів за допомогою методу read_csv.\n",
        "Оглядати перших рядків та загальної структури даних за допомогою методу head та shape.\n",
        "Роботу з пропусками в даних, зокрема заміну їх на відповідні значення та перевірку кількості пропусків за допомогою методів isna та sum.\n",
        "Обчислення статистичних показників, таких як середнє значення, максимум та мінімум, за допомогою методів mean, max та min.\n",
        "Вивчення унікальних значень та їх кількості у стовпцях за допомогою методу unique.\n",
        "Групування та агрегування даних за певними категоріями за допомогою методів groupby та agg.\n",
        "Завдяки цим діям ми змогли вивести корисну інформацію з наданих датасетів та розв'язати різні аналітичні завдання, такі як визначення максимальних та мінімальних значень, обчислення середніх значень, виявлення унікальних категорій тощо. Ця робота показала важливість обробки та аналізу даних у реальних завданнях та дослідженнях."
      ],
      "metadata": {
        "id": "HsyGWmxcH8Un"
      }
    }
  ]
}