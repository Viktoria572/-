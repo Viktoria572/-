{
  "nbformat": 4,
  "nbformat_minor": 0,
  "metadata": {
    "colab": {
      "provenance": []
    },
    "kernelspec": {
      "name": "python3",
      "display_name": "Python 3"
    },
    "language_info": {
      "name": "python"
    }
  },
  "cells": [
    {
      "cell_type": "markdown",
      "source": [
        "# Яременко Вікторія Практична 2. Варіант 15(31)"
      ],
      "metadata": {
        "id": "qqVNauA87Gfm"
      }
    },
    {
      "cell_type": "markdown",
      "source": [
        "1. Виведіть перші 5 рядків таблиці."
      ],
      "metadata": {
        "id": "nCIhFm2b7LG9"
      }
    },
    {
      "cell_type": "code",
      "source": [
        "import requests\n",
        "from bs4 import BeautifulSoup\n",
        "\n",
        "# Завантажуємо сторінку Вікіпедії\n",
        "url = \"https://uk.wikipedia.org/wiki/%D0%A1%D0%B5%D1%80%D0%B5%D0%B4%D0%BD%D1%8F_%D0%B7%D0%B0%D1%80%D0%BE%D0%B1%D1%96%D1%82%D0%BD%D0%B0_%D0%BF%D0%BB%D0%B0%D1%82%D0%B0_%D0%B2_%D0%A3%D0%BA%D1%80%D0%B0%D1%97%D0%BD%D1%96\"\n",
        "response = requests.get(url)\n",
        "\n",
        "# Створюємо об'єкт BeautifulSoup для аналізу сторінки\n",
        "soup = BeautifulSoup(response.text, \"html.parser\")\n",
        "\n",
        "# Знаходимо таблицю з даними\n",
        "table = soup.find(\"table\", {\"class\": \"wikitable\"})\n",
        "\n",
        "# Виводимо перші 5 рядків таблиці\n",
        "rows = table.find_all(\"tr\")[1:6]  # Пропускаємо заголовок таблиці\n",
        "for row in rows:\n",
        "    columns = row.find_all(\"td\")\n",
        "    if columns:\n",
        "        year = columns[0].get_text().strip()\n",
        "        salary = columns[1].get_text().strip()\n",
        "        print(f\"Рік: {year}, Середня зарплата: {salary}\")\n"
      ],
      "metadata": {
        "colab": {
          "base_uri": "https://localhost:8080/"
        },
        "id": "SYURclTt7M0U",
        "outputId": "755aa5cd-90ef-448d-e02e-d452e994b3dc"
      },
      "execution_count": 1,
      "outputs": [
        {
          "output_type": "stream",
          "name": "stdout",
          "text": [
            "Рік: 1918, Середня зарплата: ~1725[4]\n"
          ]
        }
      ]
    },
    {
      "cell_type": "markdown",
      "source": [
        "2. Визначте кількість рядків і стовпчиків за допомогою атрибуту shape"
      ],
      "metadata": {
        "id": "lfUksbOs7TdP"
      }
    },
    {
      "cell_type": "code",
      "source": [
        "import requests\n",
        "from bs4 import BeautifulSoup\n",
        "\n",
        "# Завантажуємо сторінку Вікіпедії\n",
        "url = \"https://uk.wikipedia.org/wiki/%D0%A1%D0%B5%D1%80%D0%B5%D0%B4%D0%BD%D1%8F_%D0%B7%D0%B0%D1%80%D0%BE%D0%B1%D1%96%D1%82%D0%BD%D0%B0_%D0%BF%D0%BB%D0%B0%D1%82%D0%B0_%D0%B2_%D0%A3%D0%BA%D1%80%D0%B0%D1%97%D0%BD%D1%96\"\n",
        "response = requests.get(url)\n",
        "\n",
        "# Створюємо об'єкт BeautifulSoup для аналізу сторінки\n",
        "soup = BeautifulSoup(response.text, \"html.parser\")\n",
        "\n",
        "# Знаходимо таблицю з даними\n",
        "table = soup.find(\"table\", {\"class\": \"wikitable\"})\n",
        "\n",
        "# Знаходимо кількість рядків і стовпчиків в таблиці\n",
        "rows = table.find_all(\"tr\")\n",
        "num_rows = len(rows)\n",
        "num_columns = len(rows[0].find_all(\"td\"))\n",
        "\n",
        "# Виводимо кількість рядків і стовпчиків\n",
        "print(f\"Кількість рядків: {num_rows}\")\n",
        "print(f\"Кількість стовпчиків: {num_columns}\")\n"
      ],
      "metadata": {
        "colab": {
          "base_uri": "https://localhost:8080/"
        },
        "id": "XUD674--7WDF",
        "outputId": "cbe204a4-07ee-4d37-978a-089342680cd9"
      },
      "execution_count": 2,
      "outputs": [
        {
          "output_type": "stream",
          "name": "stdout",
          "text": [
            "Кількість рядків: 2\n",
            "Кількість стовпчиків: 0\n"
          ]
        }
      ]
    },
    {
      "cell_type": "markdown",
      "source": [
        "3. Визначте загальну кількість років та кількість місяців у даних"
      ],
      "metadata": {
        "id": "ZNqzo5Y27lgG"
      }
    },
    {
      "cell_type": "code",
      "source": [
        "import requests\n",
        "from bs4 import BeautifulSoup\n",
        "\n",
        "# Завантажуємо сторінку Вікіпедії\n",
        "url = \"https://uk.wikipedia.org/wiki/%D0%A1%D0%B5%D1%80%D0%B5%D0%B4%D0%BD%D1%8F_%D0%B7%D0%B0%D1%80%D0%BE%D0%B1%D1%96%D1%82%D0%BD%D0%B0_%D0%BF%D0%BB%D0%B0%D1%82%D0%B0_%D0%B2_%D0%A3%D0%BA%D1%80%D0%B0%D1%97%D0%BD%D1%96\"\n",
        "response = requests.get(url)\n",
        "\n",
        "# Створюємо об'єкт BeautifulSoup для аналізу сторінки\n",
        "soup = BeautifulSoup(response.text, \"html.parser\")\n",
        "\n",
        "# Знаходимо таблицю з даними\n",
        "table = soup.find(\"table\", {\"class\": \"wikitable\"})\n",
        "\n",
        "# Знаходимо заголовок таблиці\n",
        "header_row = table.find(\"tr\")\n",
        "header_columns = header_row.find_all(\"th\")\n",
        "\n",
        "# Визначаємо заголовки стовпчиків для років та місяців\n",
        "year_column_index = None\n",
        "month_columns = []\n",
        "\n",
        "for i, column in enumerate(header_columns):\n",
        "    if \"Рік\" in column.get_text():\n",
        "        year_column_index = i\n",
        "    elif \"Місяць\" in column.get_text():\n",
        "        month_columns.append(i)\n",
        "\n",
        "# Знаходимо кількість років і місяців\n",
        "num_years = 0\n",
        "num_months = len(month_columns)\n",
        "\n",
        "# Знаходимо рядки з даними і визначаємо кількість років\n",
        "data_rows = table.find_all(\"tr\")[1:]  # Пропускаємо заголовок таблиці\n",
        "for row in data_rows:\n",
        "    columns = row.find_all(\"td\")\n",
        "    if columns:\n",
        "        num_years += 1\n",
        "\n",
        "# Виводимо кількість років і місяців\n",
        "print(f\"Загальна кількість років: {num_years}\")\n",
        "print(f\"Кількість місяців: {num_months}\")\n"
      ],
      "metadata": {
        "colab": {
          "base_uri": "https://localhost:8080/"
        },
        "id": "c_swAVWY7tAt",
        "outputId": "c232b81e-6f2d-47ab-f4a1-06ca13347ff3"
      },
      "execution_count": 3,
      "outputs": [
        {
          "output_type": "stream",
          "name": "stdout",
          "text": [
            "Загальна кількість років: 1\n",
            "Кількість місяців: 0\n"
          ]
        }
      ]
    },
    {
      "cell_type": "markdown",
      "source": [
        "4. Замінити пропущені значення  «-» в таблиці на NaN"
      ],
      "metadata": {
        "id": "flKF7vDC7zBG"
      }
    },
    {
      "cell_type": "code",
      "source": [
        "import requests\n",
        "from bs4 import BeautifulSoup\n",
        "import pandas as pd\n",
        "\n",
        "# Завантажуємо сторінку Вікіпедії\n",
        "url = \"https://uk.wikipedia.org/wiki/%D0%A1%D0%B5%D1%80%D0%B5%D0%B4%D0%BD%D1%8F_%D0%B7%D0%B0%D1%80%D0%BE%D0%B1%D1%96%D1%82%D0%BD%D0%B0_%D0%BF%D0%BB%D0%B0%D1%82%D0%B0_%D0%B2_%D0%A3%D0%BA%D1%80%D0%B0%D1%97%D0%BD%D1%96\"\n",
        "response = requests.get(url)\n",
        "\n",
        "# Створюємо об'єкт BeautifulSoup для аналізу сторінки\n",
        "soup = BeautifulSoup(response.text, \"html.parser\")\n",
        "\n",
        "# Знаходимо таблицю з даними\n",
        "table = soup.find(\"table\", {\"class\": \"wikitable\"})\n",
        "\n",
        "# Створюємо пустий список для даних\n",
        "data = []\n",
        "\n",
        "# Знаходимо рядки з даними і визначаємо кількість стовпчиків\n",
        "data_rows = table.find_all(\"tr\")[1:]  # Пропускаємо заголовок таблиці\n",
        "num_columns = len(data_rows[0].find_all(\"td\"))\n",
        "\n",
        "# Замінюємо пропущені значення \"–\" на NaN і додаємо дані в список\n",
        "for row in data_rows:\n",
        "    columns = row.find_all(\"td\")\n",
        "    row_data = []\n",
        "    for column in columns:\n",
        "        if column.get_text().strip() == \"–\":\n",
        "            row_data.append(pd.NA)\n",
        "        else:\n",
        "            row_data.append(column.get_text().strip())\n",
        "    data.append(row_data)\n",
        "\n",
        "# Створюємо DataFrame з даними\n",
        "df = pd.DataFrame(data)\n",
        "\n",
        "# Виводимо отриманий DataFrame\n",
        "print(df)\n"
      ],
      "metadata": {
        "colab": {
          "base_uri": "https://localhost:8080/"
        },
        "id": "s-zyxH2l76YO",
        "outputId": "6e7cd243-6ae2-45f2-bda1-24a59d296732"
      },
      "execution_count": 4,
      "outputs": [
        {
          "output_type": "stream",
          "name": "stdout",
          "text": [
            "      0         1      2          3\n",
            "0  1918  ~1725[4]  ~30,8  ~435,9[5]\n"
          ]
        }
      ]
    },
    {
      "cell_type": "markdown",
      "source": [
        "5. Визначити тип стовпців за допомогою dtypes"
      ],
      "metadata": {
        "id": "MtyRNWKK8ClO"
      }
    },
    {
      "cell_type": "code",
      "source": [
        "import requests\n",
        "from bs4 import BeautifulSoup\n",
        "import pandas as pd\n",
        "\n",
        "# Завантажуємо сторінку Вікіпедії\n",
        "url = \"https://uk.wikipedia.org/wiki/%D0%A1%D0%B5%D1%80%D0%B5%D0%B4%D0%BD%D1%8F_%D0%B7%D0%B0%D1%80%D0%BE%D0%B1%D1%96%D1%82%D0%BD%D0%B0_%D0%BF%D0%BB%D0%B0%D1%82%D0%B0_%D0%B2_%D0%A3%D0%BA%D1%80%D0%B0%D1%97%D0%BD%D1%96\"\n",
        "response = requests.get(url)\n",
        "\n",
        "# Створюємо об'єкт BeautifulSoup для аналізу сторінки\n",
        "soup = BeautifulSoup(response.text, \"html.parser\")\n",
        "\n",
        "# Знаходимо таблицю з даними\n",
        "table = soup.find(\"table\", {\"class\": \"wikitable\"})\n",
        "\n",
        "# Створюємо пустий список для даних\n",
        "data = []\n",
        "\n",
        "# Знаходимо рядки з даними\n",
        "data_rows = table.find_all(\"tr\")[1:]  # Пропускаємо заголовок таблиці\n",
        "\n",
        "# Додаємо дані в список\n",
        "for row in data_rows:\n",
        "    columns = row.find_all(\"td\")\n",
        "    row_data = [column.get_text().strip() for column in columns]\n",
        "    data.append(row_data)\n",
        "\n",
        "# Створюємо DataFrame з даними\n",
        "df = pd.DataFrame(data)\n",
        "\n",
        "# Визначаємо типи стовпців\n",
        "column_types = df.dtypes\n",
        "\n",
        "# Виводимо типи стовпців\n",
        "print(column_types)\n"
      ],
      "metadata": {
        "colab": {
          "base_uri": "https://localhost:8080/"
        },
        "id": "bVSM-KtG8KRm",
        "outputId": "769d0b3e-6acb-4880-c54f-faeccffd76d5"
      },
      "execution_count": 5,
      "outputs": [
        {
          "output_type": "stream",
          "name": "stdout",
          "text": [
            "0    object\n",
            "1    object\n",
            "2    object\n",
            "3    object\n",
            "dtype: object\n"
          ]
        }
      ]
    },
    {
      "cell_type": "markdown",
      "source": [
        "6. Видаліть передостанній і останній стовпчики ( Кількість кгхліба[20] на середнюзарплату,  Кільксть БігМаків на середню зарплату). Далі працюйте з оновленою таблицею.  "
      ],
      "metadata": {
        "id": "NgGMaeRK8T9N"
      }
    },
    {
      "cell_type": "code",
      "source": [
        "import requests\n",
        "from bs4 import BeautifulSoup\n",
        "import pandas as pd\n",
        "\n",
        "# Завантажуємо сторінку Вікіпедії\n",
        "url = \"https://uk.wikipedia.org/wiki/%D0%A1%D0%B5%D1%80%D0%B5%D0%B4%D0%BD%D1%8F_%D0%B7%D0%B0%D1%80%D0%BE%D0%B1%D1%96%D1%82%D0%BD%D0%B0_%D0%BF%D0%BB%D0%B0%D1%82%D0%B0_%D0%B2_%D0%A3%D0%BA%D1%80%D0%B0%D1%97%D0%BD%D1%96\"\n",
        "response = requests.get(url)\n",
        "\n",
        "# Створюємо об'єкт BeautifulSoup для аналізу сторінки\n",
        "soup = BeautifulSoup(response.text, \"html.parser\")\n",
        "\n",
        "# Знаходимо таблицю з даними\n",
        "table = soup.find(\"table\", {\"class\": \"wikitable\"})\n",
        "\n",
        "# Створюємо пустий список для даних\n",
        "data = []\n",
        "\n",
        "# Знаходимо рядки з даними\n",
        "data_rows = table.find_all(\"tr\")[1:]  # Пропускаємо заголовок таблиці\n",
        "\n",
        "# Додаємо дані в список\n",
        "for row in data_rows:\n",
        "    columns = row.find_all(\"td\")\n",
        "    row_data = [column.get_text().strip() for column in columns]\n",
        "    data.append(row_data)\n",
        "\n",
        "# Видаляємо передостанній і останній стовпці\n",
        "if len(data) > 0:\n",
        "    data = [row[:-2] for row in data]\n",
        "\n",
        "# Створюємо DataFrame з оновленими даними\n",
        "df = pd.DataFrame(data)\n",
        "\n",
        "# Виводимо оновлений DataFrame\n",
        "print(df)\n"
      ],
      "metadata": {
        "colab": {
          "base_uri": "https://localhost:8080/"
        },
        "id": "vFWKb4XP8bQl",
        "outputId": "1283c70d-dacc-46f3-c3ee-9f21a59a17d2"
      },
      "execution_count": 6,
      "outputs": [
        {
          "output_type": "stream",
          "name": "stdout",
          "text": [
            "      0         1\n",
            "0  1918  ~1725[4]\n"
          ]
        }
      ]
    },
    {
      "cell_type": "markdown",
      "source": [
        "7. Замінити тип нечислових даних на числові."
      ],
      "metadata": {
        "id": "TFVtIUOA8hJV"
      }
    },
    {
      "cell_type": "code",
      "source": [
        "import requests\n",
        "from bs4 import BeautifulSoup\n",
        "import pandas as pd\n",
        "\n",
        "# Завантажуємо сторінку Вікіпедії\n",
        "url = \"https://uk.wikipedia.org/wiki/%D0%A1%D0%B5%D1%80%D0%B5%D0%B4%D0%BD%D1%8F_%D0%B7%D0%B0%D1%80%D0%BE%D0%B1%D1%96%D1%82%D0%BD%D0%B0_%D0%BF%D0%BB%D0%B0%D1%82%D0%B0_%D0%B2_%D0%A3%D0%BA%D1%80%D0%B0%D1%97%D0%BD%D1%96\"\n",
        "response = requests.get(url)\n",
        "\n",
        "# Створюємо об'єкт BeautifulSoup для аналізу сторінки\n",
        "soup = BeautifulSoup(response.text, \"html.parser\")\n",
        "\n",
        "# Знаходимо таблицю з даними\n",
        "table = soup.find(\"table\", {\"class\": \"wikitable\"})\n",
        "\n",
        "# Створюємо пустий список для даних\n",
        "data = []\n",
        "\n",
        "# Знаходимо рядки з даними\n",
        "data_rows = table.find_all(\"tr\")[1:]  # Пропускаємо заголовок таблиці\n",
        "\n",
        "# Додаємо дані в список\n",
        "for row in data_rows:\n",
        "    columns = row.find_all(\"td\")\n",
        "    row_data = [column.get_text().strip() for column in columns]\n",
        "    data.append(row_data)\n",
        "\n",
        "# Видаляємо передостанній і останній стовпці\n",
        "if len(data) > 0:\n",
        "    data = [row[:-2] for row in data]\n",
        "\n",
        "# Створюємо DataFrame з оновленими даними\n",
        "df = pd.DataFrame(data)\n",
        "\n",
        "# Замінюємо тип нечислових даних на числові\n",
        "df = df.apply(pd.to_numeric, errors=\"coerce\")\n",
        "\n",
        "# Виводимо оновлений DataFrame\n",
        "print(df)\n"
      ],
      "metadata": {
        "colab": {
          "base_uri": "https://localhost:8080/"
        },
        "id": "gJ-G957e8maP",
        "outputId": "8b92c1be-ab21-47c6-96b9-6639276a2c19"
      },
      "execution_count": 8,
      "outputs": [
        {
          "output_type": "stream",
          "name": "stdout",
          "text": [
            "      0   1\n",
            "0  1918 NaN\n"
          ]
        }
      ]
    },
    {
      "cell_type": "markdown",
      "source": [
        "8. Порахуйте частку пропусків в кожній колонці (за допомогою методів isnull , sum, len)"
      ],
      "metadata": {
        "id": "eHrqPR999LiV"
      }
    },
    {
      "cell_type": "code",
      "source": [
        "import requests\n",
        "from bs4 import BeautifulSoup\n",
        "import pandas as pd\n",
        "\n",
        "# Завантажуємо сторінку Вікіпедії\n",
        "url = \"https://uk.wikipedia.org/wiki/%D0%A1%D0%B5%D1%80%D0%B5%D0%B4%D0%BD%D1%8F_%D0%B7%D0%B0%D1%80%D0%BE%D0%B1%D1%96%D1%82%D0%BD%D0%B0_%D0%BF%D0%BB%D0%B0%D1%82%D0%B0_%D0%B2_%D0%A3%D0%BA%D1%80%D0%B0%D1%97%D0%BD%D1%96\"\n",
        "response = requests.get(url)\n",
        "\n",
        "# Створюємо об'єкт BeautifulSoup для аналізу сторінки\n",
        "soup = BeautifulSoup(response.text, \"html.parser\")\n",
        "\n",
        "# Знаходимо таблицю з даними\n",
        "table = soup.find(\"table\", {\"class\": \"wikitable\"})\n",
        "\n",
        "# Створюємо пустий список для даних\n",
        "data = []\n",
        "\n",
        "# Знаходимо рядки з даними\n",
        "data_rows = table.find_all(\"tr\")[1:]  # Пропускаємо заголовок таблиці\n",
        "\n",
        "# Додаємо дані в список\n",
        "for row in data_rows:\n",
        "    columns = row.find_all(\"td\")\n",
        "    row_data = [column.get_text().strip() for column in columns]\n",
        "    data.append(row_data)\n",
        "\n",
        "# Створюємо DataFrame з даними\n",
        "df = pd.DataFrame(data)\n",
        "\n",
        "# Визначаємо частку пропусків в кожному стовпці\n",
        "missing_percentage = (df.isnull().sum() / len(df)) * 100\n",
        "\n",
        "# Виводимо частку пропусків\n",
        "print(\"Частка пропусків в кожному стовпці:\")\n",
        "print(missing_percentage)\n"
      ],
      "metadata": {
        "colab": {
          "base_uri": "https://localhost:8080/"
        },
        "id": "M40c40xA9Q40",
        "outputId": "6354a771-32a8-46fb-c4fc-6337bd58da56"
      },
      "execution_count": 9,
      "outputs": [
        {
          "output_type": "stream",
          "name": "stdout",
          "text": [
            "Частка пропусків в кожному стовпці:\n",
            "0    0.0\n",
            "1    0.0\n",
            "2    0.0\n",
            "3    0.0\n",
            "dtype: float64\n"
          ]
        }
      ]
    },
    {
      "cell_type": "markdown",
      "source": [
        "9. Замініть всі пропущені значення на середні значення по (стовпцю)"
      ],
      "metadata": {
        "id": "i_dxqrgL9ZFE"
      }
    },
    {
      "cell_type": "code",
      "source": [
        "import requests\n",
        "from bs4 import BeautifulSoup\n",
        "import pandas as pd\n",
        "\n",
        "# Завантажуємо сторінку Вікіпедії\n",
        "url = \"https://uk.wikipedia.org/wiki/%D0%A1%D0%B5%D1%80%D0%B5%D0%B4%D0%BD%D1%8F_%D0%B7%D0%B0%D1%80%D0%BE%D0%B1%D1%96%D1%82%D0%BD%D0%B0_%D0%BF%D0%BB%D0%B0%D1%82%D0%B0_%D0%B2_%D0%A3%D0%BA%D1%80%D0%B0%D1%97%D0%BD%D1%96\"\n",
        "response = requests.get(url)\n",
        "\n",
        "# Створюємо об'єкт BeautifulSoup для аналізу сторінки\n",
        "soup = BeautifulSoup(response.text, \"html.parser\")\n",
        "\n",
        "# Знаходимо таблицю з даними\n",
        "table = soup.find(\"table\", {\"class\": \"wikitable\"})\n",
        "\n",
        "# Створюємо пустий список для даних\n",
        "data = []\n",
        "\n",
        "# Знаходимо рядки з даними\n",
        "data_rows = table.find_all(\"tr\")[1:]  # Пропускаємо заголовок таблиці\n",
        "\n",
        "# Додаємо дані в список\n",
        "for row in data_rows:\n",
        "    columns = row.find_all(\"td\")\n",
        "    row_data = [column.get_text().strip() for column in columns]\n",
        "    data.append(row_data)\n",
        "\n",
        "# Створюємо DataFrame з даними\n",
        "df = pd.DataFrame(data)\n",
        "\n",
        "# Замінюємо тип нечислових даних на числові\n",
        "df = df.apply(pd.to_numeric, errors=\"coerce\")\n",
        "\n",
        "# Замінюємо пропущені значення на середні значення по стовпцях\n",
        "df = df.fillna(df.mean())\n",
        "\n",
        "# Виводимо оновлену таблицю\n",
        "print(df)\n"
      ],
      "metadata": {
        "colab": {
          "base_uri": "https://localhost:8080/"
        },
        "id": "5y4qW57e9fXs",
        "outputId": "4852a8f7-febd-4a68-ba24-71b4837c2943"
      },
      "execution_count": 21,
      "outputs": [
        {
          "output_type": "stream",
          "name": "stdout",
          "text": [
            "      0   1   2   3\n",
            "0  1918 NaN NaN NaN\n"
          ]
        }
      ]
    },
    {
      "cell_type": "markdown",
      "source": [
        "10. Знайдіть рік з найвищою зарплатою в Україні в грн і вкажіть цю зарплату."
      ],
      "metadata": {
        "id": "UIOI7XJ9-Akm"
      }
    },
    {
      "cell_type": "code",
      "source": [
        "import requests\n",
        "from bs4 import BeautifulSoup\n",
        "import pandas as pd\n",
        "\n",
        "# Завантажуємо сторінку Вікіпедії\n",
        "url = \"https://uk.wikipedia.org/wiki/%D0%A1%D0%B5%D1%80%D0%B5%D0%B4%D0%BD%D1%8F_%D0%B7%D0%B0%D1%80%D0%BE%D0%B1%D1%96%D1%82%D0%BD%D0%B0_%D0%BF%D0%BB%D0%B0%D1%82%D0%B0_%D0%B2_%D0%A3%D0%BA%D1%80%D0%B0%D1%97%D0%BD%D1%96\"\n",
        "response = requests.get(url)\n",
        "\n",
        "# Створюємо об'єкт BeautifulSoup для аналізу сторінки\n",
        "soup = BeautifulSoup(response.text, \"html.parser\")\n",
        "\n",
        "# Знаходимо таблицю з даними\n",
        "table = soup.find(\"table\", {\"class\": \"wikitable\"})\n",
        "\n",
        "# Створюємо пустий список для даних\n",
        "data = []\n",
        "\n",
        "# Знаходимо рядки з даними\n",
        "data_rows = table.find_all(\"tr\")[1:]  # Пропускаємо заголовок таблиці\n",
        "\n",
        "# Додаємо дані в список\n",
        "for row in data_rows:\n",
        "    columns = row.find_all(\"td\")\n",
        "    row_data = [column.get_text().strip() for column in columns]\n",
        "    data.append(row_data)\n",
        "\n",
        "# Створюємо DataFrame з даними\n",
        "df = pd.DataFrame(data)\n",
        "\n",
        "# Замінюємо тип нечислових даних на числові\n",
        "df = df.apply(pd.to_numeric, errors=\"coerce\")\n",
        "\n",
        "# Вибираємо стовпці, які представляють роки зарплати\n",
        "year_columns = df.iloc[:, 1:-1]\n",
        "\n",
        "# Знаходимо рік з найвищою середньою зарплатою\n",
        "highest_salary_year = year_columns.mean().idxmax()\n",
        "highest_salary = year_columns.mean().max()\n",
        "\n",
        "# Виводимо результати\n",
        "print(f\"Рік з найвищою зарплатою в Україні: {highest_salary_year}\")\n",
        "print(f\"Найвища середня зарплата в Україні в {highest_salary_year} році: {highest_salary:.2f} грн\")\n"
      ],
      "metadata": {
        "colab": {
          "base_uri": "https://localhost:8080/"
        },
        "id": "fy5kQq33-Gtt",
        "outputId": "28437765-1a46-4113-88b2-385684b6d718"
      },
      "execution_count": 14,
      "outputs": [
        {
          "output_type": "stream",
          "name": "stdout",
          "text": [
            "Рік з найвищою зарплатою в Україні: nan\n",
            "Найвища середня зарплата в Україні в nan році: nan грн\n"
          ]
        }
      ]
    },
    {
      "cell_type": "markdown",
      "source": [
        "11. Знайдіть рік з мінімальною  зарплатою в Україні в дол. США і вкажіть цю зарплату."
      ],
      "metadata": {
        "id": "-Yo5WnE_-dxt"
      }
    },
    {
      "cell_type": "code",
      "source": [
        "import requests\n",
        "from bs4 import BeautifulSoup\n",
        "import pandas as pd\n",
        "\n",
        "# Завантажуємо сторінку Вікіпедії\n",
        "url = \"https://uk.wikipedia.org/wiki/%D0%A1%D0%B5%D1%80%D0%B5%D0%B4%D0%BD%D1%8F_%D0%B7%D0%B0%D1%80%D0%BE%D0%B1%D1%96%D1%82%D0%BD%D0%B0_%D0%BF%D0%BB%D0%B0%D1%82%D0%B0_%D0%B2_%D0%A3%D0%BA%D1%80%D0%B0%D1%97%D0%BD%D1%96\"\n",
        "response = requests.get(url)\n",
        "\n",
        "# Створюємо об'єкт BeautifulSoup для аналізу сторінки\n",
        "soup = BeautifulSoup(response.text, \"html.parser\")\n",
        "\n",
        "# Знаходимо таблицю з даними\n",
        "table = soup.find(\"table\", {\"class\": \"wikitable\"})\n",
        "\n",
        "# Створюємо пустий список для даних\n",
        "data = []\n",
        "\n",
        "# Знаходимо рядки з даними\n",
        "data_rows = table.find_all(\"tr\")[1:]  # Пропускаємо заголовок таблиці\n",
        "\n",
        "# Додаємо дані в список\n",
        "for row in data_rows:\n",
        "    columns = row.find_all(\"td\")\n",
        "    row_data = [column.get_text().strip() for column in columns]\n",
        "    data.append(row_data)\n",
        "\n",
        "# Створюємо DataFrame з даними\n",
        "df = pd.DataFrame(data)\n",
        "\n",
        "# Замінюємо тип нечислових даних на числові\n",
        "df = df.apply(pd.to_numeric, errors=\"coerce\")\n",
        "\n",
        "# Вибираємо стовпці, які представляють роки зарплати\n",
        "year_columns = df.iloc[:, 1:-1]\n",
        "\n",
        "# Знаходимо рік з мінімальною середньою зарплатою в доларах США\n",
        "min_salary_year = year_columns.mean().idxmin()\n",
        "min_salary = year_columns.mean().min()\n",
        "\n",
        "# Виводимо результати\n",
        "print(f\"Рік з мінімальною зарплатою в Україні в доларах США: {min_salary_year}\")\n",
        "print(f\"Мінімальна середня зарплата в Україні в {min_salary_year} році: {min_salary:.2f} доларів США\")\n"
      ],
      "metadata": {
        "colab": {
          "base_uri": "https://localhost:8080/"
        },
        "id": "oBmmzs6y-jIN",
        "outputId": "0fe83b48-c039-4f93-b888-8fe28c97a04f"
      },
      "execution_count": 15,
      "outputs": [
        {
          "output_type": "stream",
          "name": "stdout",
          "text": [
            "Рік з мінімальною зарплатою в Україні в доларах США: nan\n",
            "Мінімальна середня зарплата в Україні в nan році: nan доларів США\n"
          ]
        }
      ]
    },
    {
      "cell_type": "markdown",
      "source": [
        "12. Виведіть роки, коли зарплата в грн була вище середньої"
      ],
      "metadata": {
        "id": "kni3cQqD-sr-"
      }
    },
    {
      "cell_type": "code",
      "source": [
        "import requests\n",
        "from bs4 import BeautifulSoup\n",
        "import pandas as pd\n",
        "\n",
        "# Завантажуємо сторінку Вікіпедії\n",
        "url = \"https://uk.wikipedia.org/wiki/%D0%A1%D0%B5%D1%80%D0%B5%D0%B4%D0%BD%D1%8F_%D0%B7%D0%B0%D1%80%D0%BE%D0%B1%D1%96%D1%82%D0%BD%D0%B0_%D0%BF%D0%BB%D0%B0%D1%82%D0%B0_%D0%B2_%D0%A3%D0%BA%D1%80%D0%B0%D1%97%D0%BD%D1%96\"\n",
        "response = requests.get(url)\n",
        "\n",
        "# Створюємо об'єкт BeautifulSoup для аналізу сторінки\n",
        "soup = BeautifulSoup(response.text, \"html.parser\")\n",
        "\n",
        "# Знаходимо таблицю з даними\n",
        "table = soup.find(\"table\", {\"class\": \"wikitable\"})\n",
        "\n",
        "# Створюємо пустий список для даних\n",
        "data = []\n",
        "\n",
        "# Знаходимо рядки з даними\n",
        "data_rows = table.find_all(\"tr\")[1:]  # Пропускаємо заголовок таблиці\n",
        "\n",
        "# Додаємо дані в список\n",
        "for row in data_rows:\n",
        "    columns = row.find_all(\"td\")\n",
        "    row_data = [column.get_text().strip() for column in columns]\n",
        "    data.append(row_data)\n",
        "\n",
        "# Створюємо DataFrame з даними\n",
        "df = pd.DataFrame(data)\n",
        "\n",
        "# Замінюємо тип нечислових даних на числові\n",
        "df = df.apply(pd.to_numeric, errors=\"coerce\")\n",
        "\n",
        "# Вибираємо стовпці, які представляють роки зарплати та середню зарплату\n",
        "year_columns = df.iloc[:, 1:-1]\n",
        "\n",
        "# Знаходимо роки, коли зарплата в гривнях була вище середньої\n",
        "above_average_years = year_columns.columns[year_columns.mean() > year_columns.mean().mean()]\n",
        "\n",
        "# Виводимо результати\n",
        "print(\"Роки, коли зарплата в гривнях була вище середньої:\")\n",
        "print(above_average_years)\n"
      ],
      "metadata": {
        "colab": {
          "base_uri": "https://localhost:8080/"
        },
        "id": "7fNIZXk1-xF9",
        "outputId": "e581a340-dc0e-4778-e14c-50a88ae2d30d"
      },
      "execution_count": 16,
      "outputs": [
        {
          "output_type": "stream",
          "name": "stdout",
          "text": [
            "Роки, коли зарплата в гривнях була вище середньої:\n",
            "Int64Index([], dtype='int64')\n"
          ]
        }
      ]
    },
    {
      "cell_type": "markdown",
      "source": [
        "13. Створіть графік, що відображає  зарплату в Україні з часом (за роками)."
      ],
      "metadata": {
        "id": "ULqg4-5m-552"
      }
    },
    {
      "cell_type": "code",
      "source": [
        "import requests\n",
        "from bs4 import BeautifulSoup\n",
        "import pandas as pd\n",
        "import matplotlib.pyplot as plt\n",
        "\n",
        "# Завантажуємо сторінку Вікіпедії\n",
        "url = \"https://uk.wikipedia.org/wiki/%D0%A1%D0%B5%D1%80%D0%B5%D0%B4%D0%BD%D1%8F_%D0%B7%D0%B0%D1%80%D0%BE%D0%B1%D1%96%D1%82%D0%BD%D0%B0_%D0%BF%D0%BB%D0%B0%D1%82%D0%B0_%D0%B2_%D0%A3%D0%BA%D1%80%D0%B0%D1%97%D0%BD%D1%96\"\n",
        "response = requests.get(url)\n",
        "\n",
        "# Створюємо об'єкт BeautifulSoup для аналізу сторінки\n",
        "soup = BeautifulSoup(response.text, \"html.parser\")\n",
        "\n",
        "# Знаходимо таблицю з даними\n",
        "table = soup.find(\"table\", {\"class\": \"wikitable\"})\n",
        "\n",
        "# Створюємо пустий список для даних\n",
        "data = []\n",
        "\n",
        "# Знаходимо рядки з даними\n",
        "data_rows = table.find_all(\"tr\")[1:]  # Пропускаємо заголовок таблиці\n",
        "\n",
        "# Додаємо дані в список\n",
        "for row in data_rows:\n",
        "    columns = row.find_all(\"td\")\n",
        "    row_data = [column.get_text().strip() for column in columns]\n",
        "    data.append(row_data)\n",
        "\n",
        "# Створюємо DataFrame з даними\n",
        "df = pd.DataFrame(data)\n",
        "\n",
        "# Замінюємо тип нечислових даних на числові\n",
        "df = df.apply(pd.to_numeric, errors=\"coerce\")\n",
        "\n",
        "# Вибираємо стовпці, які представляють роки зарплати та середню зарплату\n",
        "year_columns = df.iloc[:, 1:-1]\n",
        "\n",
        "# Знаходимо роки та середню зарплату\n",
        "years = df.iloc[:, 1]\n",
        "average_salaries = df.iloc[:, -1]\n",
        "\n",
        "# Створюємо графік\n",
        "plt.figure(figsize=(12, 6))\n",
        "plt.plot(years, average_salaries, marker='o', linestyle='-')\n",
        "plt.title(\"Середня зарплата в Україні за роками\")\n",
        "plt.xlabel(\"Рік\")\n",
        "plt.ylabel(\"Середня зарплата (грн)\")\n",
        "plt.grid(True)\n",
        "plt.xticks(rotation=45)\n",
        "plt.tight_layout()\n",
        "\n",
        "# Відображаємо графік\n",
        "plt.show()\n"
      ],
      "metadata": {
        "colab": {
          "base_uri": "https://localhost:8080/",
          "height": 607
        },
        "id": "mnyFoMCk--8P",
        "outputId": "a5a81f21-fa7a-46f6-e66a-bdf902bd48e9"
      },
      "execution_count": 17,
      "outputs": [
        {
          "output_type": "display_data",
          "data": {
            "text/plain": [
              "<Figure size 1200x600 with 1 Axes>"
            ],
            "image/png": "[encoded data removed]"
          },
          "metadata": {}
        }
      ]
    },
    {
      "cell_type": "markdown",
      "source": [
        "14. Видаліть останній рік з таблиці та виведіть оновлену таблицю."
      ],
      "metadata": {
        "id": "eTgWEfLy_G1W"
      }
    },
    {
      "cell_type": "code",
      "source": [
        "import requests\n",
        "from bs4 import BeautifulSoup\n",
        "import pandas as pd\n",
        "\n",
        "# Завантажуємо сторінку Вікіпедії\n",
        "url = \"https://uk.wikipedia.org/wiki/%D0%A1%D0%B5%D1%80%D0%B5%D0%B4%D0%BD%D1%8F_%D0%B7%D0%B0%D1%80%D0%BE%D0%B1%D1%96%D1%82%D0%BD%D0%B0_%D0%BF%D0%BB%D0%B0%D1%82%D0%B0_%D0%B2_%D0%A3%D0%BA%D1%80%D0%B0%D1%97%D0%BD%D1%96\"\n",
        "response = requests.get(url)\n",
        "\n",
        "# Створюємо об'єкт BeautifulSoup для аналізу сторінки\n",
        "soup = BeautifulSoup(response.text, \"html.parser\")\n",
        "\n",
        "# Знаходимо таблицю з даними\n",
        "table = soup.find(\"table\", {\"class\": \"wikitable\"})\n",
        "\n",
        "# Створюємо пустий список для даних\n",
        "data = []\n",
        "\n",
        "# Знаходимо рядки з даними\n",
        "data_rows = table.find_all(\"tr\")[1:]  # Пропускаємо заголовок таблиці\n",
        "\n",
        "# Додаємо дані в список\n",
        "for row in data_rows:\n",
        "    columns = row.find_all(\"td\")\n",
        "    row_data = [column.get_text().strip() for column in columns]\n",
        "    data.append(row_data)\n",
        "\n",
        "# Створюємо DataFrame з даними\n",
        "df = pd.DataFrame(data)\n",
        "\n",
        "# Замінюємо тип нечислових даних на числові\n",
        "df = df.apply(pd.to_numeric, errors=\"coerce\")\n",
        "\n",
        "# Видаляємо останній рік з таблиці\n",
        "df = df.iloc[:, :-1]\n",
        "\n",
        "# Виводимо оновлену таблицю\n",
        "print(df)\n"
      ],
      "metadata": {
        "colab": {
          "base_uri": "https://localhost:8080/"
        },
        "id": "xB2vlkp2_MRl",
        "outputId": "3d5f131c-1703-4365-f572-cab48babcd48"
      },
      "execution_count": 22,
      "outputs": [
        {
          "output_type": "stream",
          "name": "stdout",
          "text": [
            "      0   1   2\n",
            "0  1918 NaN NaN\n"
          ]
        }
      ]
    },
    {
      "cell_type": "markdown",
      "source": [
        "15. Побудуйте графік, що відображає середню зарплату в Україні в розрізі років без останнього року."
      ],
      "metadata": {
        "id": "NOwmH_yv_cs8"
      }
    },
    {
      "cell_type": "code",
      "source": [
        "import requests\n",
        "from bs4 import BeautifulSoup\n",
        "import matplotlib.pyplot as plt\n",
        "url = \"https://uk.wikipedia.org/wiki/%D0%A1%D0%B5%D1%80%D0%B5%D0%B4%D0%BD%D1%8F_%D0%B7%D0%B0%D1%80%D0%BE%D0%B1%D1%96%D1%82%D0%BD%D0%B0_%D0%BF%D0%BB%D0%B0%D1%82%D0%B0_%D0%B2_%D0%A3%D0%BA%D1%80%D0%B0%D1%97%D0%BD%D1%96\"\n",
        "response = requests.get(url)\n",
        "\n",
        "soup = BeautifulSoup(response.text, \"html.parser\")\n",
        "# Знаходимо таблицю з даними про середню зарплату\n",
        "\n",
        "table = soup.find(\"table\", {\"class\": \"wikitable\"})\n",
        "# Розібираэмо таблицю та збираэмо дані\n",
        "years = []\n",
        "salaries = []\n",
        "\n",
        "for row in table.find_all(\"tr\")[1:-1]:  # Пропустимо заголовок і останній рік\n",
        "    columns = row.find_all(\"td\")\n",
        "    year = int(columns[0].text.strip())\n",
        "    salary = int(columns[1].text.strip().replace(\" \", \"\"))  # Видаляємо пробіли та перетворюємо на числа\n",
        "    years.append(year)\n",
        "    salaries.append(salary)\n",
        "    # будуємо графік без останнього року\n",
        "years = years[:-1]\n",
        "salaries = salaries[:-1]\n",
        "\n",
        "plt.figure(figsize=(10, 6))\n",
        "plt.plot(years, salaries, marker='o', linestyle='-', color='b')\n",
        "plt.title(\"Середня зарплата в Україні (1992-2021)\")\n",
        "plt.xlabel(\"Рік\")\n",
        "plt.ylabel(\"Середня зарплата, грн\")\n",
        "plt.grid(True)\n",
        "plt.show()"
      ],
      "metadata": {
        "colab": {
          "base_uri": "https://localhost:8080/",
          "height": 564
        },
        "id": "d2qhDxa4_nQO",
        "outputId": "600fdacd-28e7-4e3d-f72c-629b27d9dbe1"
      },
      "execution_count": 19,
      "outputs": [
        {
          "output_type": "display_data",
          "data": {
            "text/plain": [
              "<Figure size 1000x600 with 1 Axes>"
            ],
            "image/png": "[encoded data removed]"
          },
          "metadata": {}
        }
      ]
    },
    {
      "cell_type": "markdown",
      "source": [
        "16. Обчисліть зарплату за останні два роки і порівняйте її із зарплатою за останні 5 років. Вкажіть, чи є різниця, і в якому напрямку."
      ],
      "metadata": {
        "id": "IthM9Hk6_psd"
      }
    },
    {
      "cell_type": "code",
      "source": [
        "import requests\n",
        "from bs4 import BeautifulSoup\n",
        "import pandas as pd\n",
        "\n",
        "# Завантажуємо сторінку Вікіпедії\n",
        "url = \"https://uk.wikipedia.org/wiki/%D0%A1%D0%B5%D1%80%D0%B5%D0%B4%D0%BD%D1%8F_%D0%B7%D0%B0%D1%80%D0%BE%D0%B1%D1%96%D1%82%D0%BD%D0%B0_%D0%BF%D0%BB%D0%B0%D1%82%D0%B0_%D0%B2_%D0%A3%D0%BA%D1%80%D0%B0%D1%97%D0%BD%D1%96\"\n",
        "response = requests.get(url)\n",
        "\n",
        "# Створюємо об'єкт BeautifulSoup для аналізу сторінки\n",
        "soup = BeautifulSoup(response.text, \"html.parser\")\n",
        "\n",
        "# Знаходимо таблицю з даними\n",
        "table = soup.find(\"table\", {\"class\": \"wikitable\"})\n",
        "\n",
        "# Створюємо пустий список для даних\n",
        "data = []\n",
        "\n",
        "# Знаходимо рядки з даними\n",
        "data_rows = table.find_all(\"tr\")[1:]  # Пропускаємо заголовок таблиці\n",
        "\n",
        "# Додаємо дані в список\n",
        "for row in data_rows:\n",
        "    columns = row.find_all(\"td\")\n",
        "    row_data = [column.get_text().strip() for column in columns]\n",
        "    data.append(row_data)\n",
        "\n",
        "# Створюємо DataFrame з даними\n",
        "df = pd.DataFrame(data)\n",
        "\n",
        "# Замінюємо тип нечислових даних на числові\n",
        "df = df.apply(pd.to_numeric, errors=\"coerce\")\n",
        "\n",
        "# Вибираємо стовпці, які представляють роки зарплати та середню зарплату\n",
        "year_columns = df.iloc[:, 1:-1]\n",
        "\n",
        "# Знаходимо зарплату за останні два роки\n",
        "last_two_years_salary = year_columns.iloc[:, -2:].mean().mean()\n",
        "\n",
        "# Знаходимо зарплату за останні п'ять років\n",
        "last_five_years_salary = year_columns.iloc[:, -5:].mean().mean()\n",
        "\n",
        "# Порівнюємо зарплати\n",
        "if last_two_years_salary > last_five_years_salary:\n",
        "    difference = last_two_years_salary - last_five_years_salary\n",
        "    direction = \"вища\"\n",
        "elif last_two_years_salary < last_five_years_salary:\n",
        "    difference = last_five_years_salary - last_two_years_salary\n",
        "    direction = \"нижча\"\n",
        "else:\n",
        "    difference = 0\n",
        "    direction = \"рівна\"\n",
        "\n",
        "# Виводимо результати\n",
        "print(f\"Зарплата за останні два роки: {last_two_years_salary} грн\")\n",
        "print(f\"Зарплата за останні п'ять років: {last_five_years_salary} грн\")\n",
        "print(f\"Різниця: {difference} грн ({direction})\")\n"
      ],
      "metadata": {
        "colab": {
          "base_uri": "https://localhost:8080/"
        },
        "id": "3GVwGY1p_uH9",
        "outputId": "608fc957-2bb5-4e73-8795-48437b5050e5"
      },
      "execution_count": 20,
      "outputs": [
        {
          "output_type": "stream",
          "name": "stdout",
          "text": [
            "Зарплата за останні два роки: nan грн\n",
            "Зарплата за останні п'ять років: nan грн\n",
            "Різниця: 0 грн (рівна)\n"
          ]
        }
      ]
    },
    {
      "cell_type": "markdown",
      "source": [
        "# Висновок: В цій практичній роботі я виконала ряд завдань пов'язаних з аналізом даних про середню щомісячну зарплату в Україні за роками. Для цього я використовувала Python та такі бібліотеки,  як requests для завантаження веб-сторінки, beautifulsoup4 для аналізу HTML-коду та pandas для роботи з даними"
      ],
      "metadata": {
        "id": "cD5YDEyqBDrN"
      }
    }
  ]
}