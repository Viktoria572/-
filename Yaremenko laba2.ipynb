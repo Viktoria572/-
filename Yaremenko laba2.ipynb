{
  "nbformat": 4,
  "nbformat_minor": 0,
  "metadata": {
    "colab": {
      "provenance": []
    },
    "kernelspec": {
      "name": "python3",
      "display_name": "Python 3"
    },
    "language_info": {
      "name": "python"
    }
  },
  "cells": [
    {
      "cell_type": "markdown",
      "source": [
        "# Яременко Вікторія Практична 2. Варіант 31"
      ],
      "metadata": {
        "id": "qqVNauA87Gfm"
      }
    },
    {
      "cell_type": "markdown",
      "source": [
        "1. Виведіть перші 5 рядків таблиці."
      ],
      "metadata": {
        "id": "nCIhFm2b7LG9"
      }
    },
    {
      "cell_type": "code",
      "source": [
        "import pandas as pd\n",
        "import numpy as np\n",
        "\n",
        "# Зчитуємо дані з вказаного URL\n",
        "url = \"https://uk.wikipedia.org/wiki/%D0%A1%D0%B5%D1%80%D0%B5%D0%B4%D0%BD%D1%8F_%D0%B7%D0%B0%D1%80%D0%BE%D0%B1%D1%96%D1%82%D0%BD%D0%B0_%D0%BF%D0%BB%D0%B0%D1%82%D0%B0_%D0%B2_%D0%A3%D0%BA%D1%80%D0%B0%D1%97%D0%BD%D1%96\"\n",
        "\n",
        "# Зчитуємо таблицю в DataFrame\n",
        "df = pd.read_html(url, header=0)[2] # Обираємо другий елемент списку, де знаходиться таблиця\n",
        "df_1 = df.head(5)\n",
        "column_name_usd = 'В доларах США'\n",
        "\n",
        "# Виводимо перші 5 рядків таблиці\n",
        "print(df_1)"
      ],
      "metadata": {
        "colab": {
          "base_uri": "https://localhost:8080/"
        },
        "id": "SYURclTt7M0U",
        "outputId": "2fe21e4a-0fa5-4f51-8903-dc534beb6ec7"
      },
      "execution_count": 1,
      "outputs": [
        {
          "output_type": "stream",
          "name": "stdout",
          "text": [
            "    Рік В національній валюті В доларах США  \\\n",
            "0  1992              5832,88▲        28,04▼   \n",
            "1  1993               163533▲        36,03▲   \n",
            "2  1994              1426343▲        44,99▲   \n",
            "3  1995              7304000▲        49,53▲   \n",
            "4  1996               125,23▼        68,45▲   \n",
            "\n",
            "  Кількість кг хліба[20] на середню зарплату  \\\n",
            "0                                   1015,67▲   \n",
            "1                                    430,42▼   \n",
            "2                                    372,76▼   \n",
            "3                                    201,76▼   \n",
            "4                                    198,62▼   \n",
            "\n",
            "  Кількість БігМаків на середню зарплату  \n",
            "0                                      —  \n",
            "1                                      —  \n",
            "2                                      —  \n",
            "3                                      —  \n",
            "4                                      —  \n"
          ]
        }
      ]
    },
    {
      "cell_type": "markdown",
      "source": [
        "2. Визначте кількість рядків і стовпчиків за допомогою атрибуту shape"
      ],
      "metadata": {
        "id": "lfUksbOs7TdP"
      }
    },
    {
      "cell_type": "code",
      "source": [
        "# Визначаємо кількість рядків і стовпчиків за допомогою атрибуту shape\n",
        "rows, columns = df.shape\n",
        "print(f'Кількість рядків: {rows}')\n",
        "print(f'Кількість стовпчиків: {columns}')"
      ],
      "metadata": {
        "colab": {
          "base_uri": "https://localhost:8080/"
        },
        "id": "XUD674--7WDF",
        "outputId": "87dd5fb0-dc32-4464-a649-a808272af37e"
      },
      "execution_count": 2,
      "outputs": [
        {
          "output_type": "stream",
          "name": "stdout",
          "text": [
            "Кількість рядків: 32\n",
            "Кількість стовпчиків: 5\n"
          ]
        }
      ]
    },
    {
      "cell_type": "markdown",
      "source": [
        "3. Визначте загальну кількість років та кількість місяців у даних"
      ],
      "metadata": {
        "id": "ZNqzo5Y27lgG"
      }
    },
    {
      "cell_type": "code",
      "source": [
        "# Отримуємо перший і останній рік з даних\n",
        "first_year = int(df['Рік'].min().replace(\"*\", \"\"))\n",
        "last_year = int(df['Рік'].max().replace(\"*\", \"\"))\n",
        "\n",
        "# Визначаємо загальну кількість років і місяців\n",
        "total_years = last_year - first_year + 1\n",
        "\n",
        "print(f'Загальна кількість років: {total_years}')"
      ],
      "metadata": {
        "colab": {
          "base_uri": "https://localhost:8080/"
        },
        "id": "c_swAVWY7tAt",
        "outputId": "8231672b-a8b6-4e70-b478-4367163b23f0"
      },
      "execution_count": 3,
      "outputs": [
        {
          "output_type": "stream",
          "name": "stdout",
          "text": [
            "Загальна кількість років: 32\n"
          ]
        }
      ]
    },
    {
      "cell_type": "markdown",
      "source": [
        "4. Замінити пропущені значення  «-» в таблиці на NaN"
      ],
      "metadata": {
        "id": "flKF7vDC7zBG"
      }
    },
    {
      "cell_type": "code",
      "source": [
        "df_replace = df\n",
        "df_replace = df_replace.apply(lambda x: x.str.replace('-', '', regex=False) if x.dtype == 'object' else x)\n",
        "print(df_replace)"
      ],
      "metadata": {
        "colab": {
          "base_uri": "https://localhost:8080/"
        },
        "id": "s-zyxH2l76YO",
        "outputId": "160699d5-f7dd-4c6d-adcb-bb31478d7bc5"
      },
      "execution_count": 4,
      "outputs": [
        {
          "output_type": "stream",
          "name": "stdout",
          "text": [
            "      Рік В національній валюті В доларах США  \\\n",
            "0    1992              5832,88▲        28,04▼   \n",
            "1    1993               163533▲        36,03▲   \n",
            "2    1994              1426343▲        44,99▲   \n",
            "3    1995              7304000▲        49,53▲   \n",
            "4    1996               125,23▼        68,45▲   \n",
            "5    1997               143,09▲        76,86▲   \n",
            "6    1998               152,83▲        62,39▼   \n",
            "7    1999               177,39▲        42,95▼   \n",
            "8    2000               231,04▲        42,47▼   \n",
            "9    2001               311,62▲        58,01▲   \n",
            "10   2002               375,98▲        70,59▲   \n",
            "11   2003               462,58▲        86,74▲   \n",
            "12   2004               590,53▲       111,02▲   \n",
            "13   2005               806,14▲       157,30▲   \n",
            "14   2006              1042,88▲       206,51▲   \n",
            "15   2007              1352,75▲       267,87▲   \n",
            "16   2008              1808,92▲       343,43▲   \n",
            "17   2009              1909,25▲       245,05▼   \n",
            "18   2010              2246,75▲       283,12▲   \n",
            "19   2011              2639,17▲       331,24▲   \n",
            "20   2012              3031,92▲       379,42▲   \n",
            "21   2013              3273,82▲       409,59▲   \n",
            "22   2014              3474,75▲       292,32▼   \n",
            "23   2015              4207,33▲       162,60▼   \n",
            "24   2016              5187,33▲       203,02▲   \n",
            "25   2017              7105,42▲       267,16▲   \n",
            "26   2018              8867,33▲       325,99▲   \n",
            "27   2019             10503,75▲       406,40▲   \n",
            "28   2020             11596,60▲       430,21▲   \n",
            "29   2021             14017,80▲       514,41▲   \n",
            "30  2022*             13376,21▼       380,00▼   \n",
            "31  2023*             13768,40▲       358,72▼   \n",
            "\n",
            "   Кількість кг хліба[20] на середню зарплату  \\\n",
            "0                                    1015,67▲   \n",
            "1                                     430,42▼   \n",
            "2                                     372,76▼   \n",
            "3                                     201,76▼   \n",
            "4                                     198,62▼   \n",
            "5                                     211,13▲   \n",
            "6                                     177,69▼   \n",
            "7                                     180,68▲   \n",
            "8                                     117,51▼   \n",
            "9                                     153,57▲   \n",
            "10                                    213,84▲   \n",
            "11                                    276,27▲   \n",
            "12                                    276,06▼   \n",
            "13                                    332,05▲   \n",
            "14                                    441,28▲   \n",
            "15                                    498,66▲   \n",
            "16                                    585,00▲   \n",
            "17                                    497,02▼   \n",
            "18                                    527,82▲   \n",
            "19                                    564,37▲   \n",
            "20                                    585,38▲   \n",
            "21                                    625,00▲   \n",
            "22                                    642,39▲   \n",
            "23                                    517,22▼   \n",
            "24                                    441,05▼   \n",
            "25                                    450,35▲   \n",
            "26                                    497,05▲   \n",
            "27                                    528,09▲   \n",
            "28                                    549,08▲   \n",
            "29                                    560,03▲   \n",
            "30                                    409,57▼   \n",
            "31                                    387,62▼   \n",
            "\n",
            "   Кількість БігМаків на середню зарплату  \n",
            "0                                       —  \n",
            "1                                       —  \n",
            "2                                       —  \n",
            "3                                       —  \n",
            "4                                       —  \n",
            "5                                  20[21]  \n",
            "6                                    н.д.  \n",
            "7                                 24▲[22]  \n",
            "8                                    н.д.  \n",
            "9                                 50▲[23]  \n",
            "10                                   н.д.  \n",
            "11                                   н.д.  \n",
            "12                                    81▲  \n",
            "13                                   111▲  \n",
            "14                                   123▲  \n",
            "15                                   146▲  \n",
            "16                                   164▲  \n",
            "17                                   136▼  \n",
            "18                                   155▲  \n",
            "19                                   160▲  \n",
            "20                                   202▲  \n",
            "21                                   172▼  \n",
            "22                                   182▲  \n",
            "23                                   124▼  \n",
            "24                                   133▲  \n",
            "25                                   161▲  \n",
            "26                                   177▲  \n",
            "27                                   184▲  \n",
            "28                                   187▲  \n",
            "29                                   216▲  \n",
            "30                                   132▼  \n",
            "31                                   131▼  \n"
          ]
        }
      ]
    },
    {
      "cell_type": "markdown",
      "source": [
        "5. Визначити тип стовпців за допомогою dtypes"
      ],
      "metadata": {
        "id": "MtyRNWKK8ClO"
      }
    },
    {
      "cell_type": "code",
      "source": [
        "# Визначення типів стовпців\n",
        "column_types = df.dtypes\n",
        "\n",
        "# Вивід типів стовпців\n",
        "print(column_types)"
      ],
      "metadata": {
        "colab": {
          "base_uri": "https://localhost:8080/"
        },
        "id": "bVSM-KtG8KRm",
        "outputId": "36b8cec0-675a-43a2-f9f5-25d5bc9ca266"
      },
      "execution_count": 5,
      "outputs": [
        {
          "output_type": "stream",
          "name": "stdout",
          "text": [
            "Рік                                           object\n",
            "В національній валюті                         object\n",
            "В доларах США                                 object\n",
            "Кількість кг хліба[20] на середню зарплату    object\n",
            "Кількість БігМаків на середню зарплату        object\n",
            "dtype: object\n"
          ]
        }
      ]
    },
    {
      "cell_type": "markdown",
      "source": [
        "6. Видаліть передостанній і останній стовпчики ( Кількість кгхліба[20] на середнюзарплату,  Кільксть БігМаків на середню зарплату). Далі працюйте з оновленою таблицею.  "
      ],
      "metadata": {
        "id": "NgGMaeRK8T9N"
      }
    },
    {
      "cell_type": "code",
      "source": [
        "# Видаляємо передостанній і останній стовпці за їх індексами\n",
        "df_delete_last_two_columns = df\n",
        "df_delete_last_two_columns = df_delete_last_two_columns.drop(df_delete_last_two_columns.columns[-1], axis=1)  # Видаляємо останній стовпець\n",
        "df_delete_last_two_columns = df_delete_last_two_columns.drop(df_delete_last_two_columns.columns[-1], axis=1)  # Видаляємо передостанній стовпець\n",
        "print(df_delete_last_two_columns)"
      ],
      "metadata": {
        "colab": {
          "base_uri": "https://localhost:8080/"
        },
        "id": "vFWKb4XP8bQl",
        "outputId": "740d8b50-81c8-4e4e-8b73-1afb6b0bab29"
      },
      "execution_count": 6,
      "outputs": [
        {
          "output_type": "stream",
          "name": "stdout",
          "text": [
            "      Рік В національній валюті В доларах США\n",
            "0    1992              5832,88▲        28,04▼\n",
            "1    1993               163533▲        36,03▲\n",
            "2    1994              1426343▲        44,99▲\n",
            "3    1995              7304000▲        49,53▲\n",
            "4    1996               125,23▼        68,45▲\n",
            "5    1997               143,09▲        76,86▲\n",
            "6    1998               152,83▲        62,39▼\n",
            "7    1999               177,39▲        42,95▼\n",
            "8    2000               231,04▲        42,47▼\n",
            "9    2001               311,62▲        58,01▲\n",
            "10   2002               375,98▲        70,59▲\n",
            "11   2003               462,58▲        86,74▲\n",
            "12   2004               590,53▲       111,02▲\n",
            "13   2005               806,14▲       157,30▲\n",
            "14   2006              1042,88▲       206,51▲\n",
            "15   2007              1352,75▲       267,87▲\n",
            "16   2008              1808,92▲       343,43▲\n",
            "17   2009              1909,25▲       245,05▼\n",
            "18   2010              2246,75▲       283,12▲\n",
            "19   2011              2639,17▲       331,24▲\n",
            "20   2012              3031,92▲       379,42▲\n",
            "21   2013              3273,82▲       409,59▲\n",
            "22   2014              3474,75▲       292,32▼\n",
            "23   2015              4207,33▲       162,60▼\n",
            "24   2016              5187,33▲       203,02▲\n",
            "25   2017              7105,42▲       267,16▲\n",
            "26   2018              8867,33▲       325,99▲\n",
            "27   2019             10503,75▲       406,40▲\n",
            "28   2020             11596,60▲       430,21▲\n",
            "29   2021             14017,80▲       514,41▲\n",
            "30  2022*             13376,21▼       380,00▼\n",
            "31  2023*             13768,40▲       358,72▼\n"
          ]
        }
      ]
    },
    {
      "cell_type": "markdown",
      "source": [
        "7. Замінити тип нечислових даних на числові."
      ],
      "metadata": {
        "id": "TFVtIUOA8hJV"
      }
    },
    {
      "cell_type": "code",
      "source": [
        "# Заміна нечислових значень на NaN\n",
        "df_numeric = df\n",
        "# Очиста непотрібних символів, які будуть заважати заміні типа даних на числовий\n",
        "df_numeric = df_numeric.apply(lambda x: x.str.replace('▲', '', regex=False) if x.dtype == 'object' else x)\n",
        "df_numeric = df_numeric.apply(lambda x: x.str.replace('▼', '', regex=False) if x.dtype == 'object' else x)\n",
        "df_numeric = df_numeric.apply(lambda x: x.str.replace(',', '.', regex=False) if x.dtype == 'object' else x)\n",
        "# Замінити всі інші нечислові значення на NaN у всій таблиці\n",
        "df_numeric = df_numeric.apply(pd.to_numeric, errors='coerce')\n",
        "print(df_numeric)"
      ],
      "metadata": {
        "colab": {
          "base_uri": "https://localhost:8080/"
        },
        "id": "gJ-G957e8maP",
        "outputId": "ff4af836-47ba-44a8-e3e0-07be402fd881"
      },
      "execution_count": 7,
      "outputs": [
        {
          "output_type": "stream",
          "name": "stdout",
          "text": [
            "       Рік  В національній валюті  В доларах США  \\\n",
            "0   1992.0                5832.88          28.04   \n",
            "1   1993.0              163533.00          36.03   \n",
            "2   1994.0             1426343.00          44.99   \n",
            "3   1995.0             7304000.00          49.53   \n",
            "4   1996.0                 125.23          68.45   \n",
            "5   1997.0                 143.09          76.86   \n",
            "6   1998.0                 152.83          62.39   \n",
            "7   1999.0                 177.39          42.95   \n",
            "8   2000.0                 231.04          42.47   \n",
            "9   2001.0                 311.62          58.01   \n",
            "10  2002.0                 375.98          70.59   \n",
            "11  2003.0                 462.58          86.74   \n",
            "12  2004.0                 590.53         111.02   \n",
            "13  2005.0                 806.14         157.30   \n",
            "14  2006.0                1042.88         206.51   \n",
            "15  2007.0                1352.75         267.87   \n",
            "16  2008.0                1808.92         343.43   \n",
            "17  2009.0                1909.25         245.05   \n",
            "18  2010.0                2246.75         283.12   \n",
            "19  2011.0                2639.17         331.24   \n",
            "20  2012.0                3031.92         379.42   \n",
            "21  2013.0                3273.82         409.59   \n",
            "22  2014.0                3474.75         292.32   \n",
            "23  2015.0                4207.33         162.60   \n",
            "24  2016.0                5187.33         203.02   \n",
            "25  2017.0                7105.42         267.16   \n",
            "26  2018.0                8867.33         325.99   \n",
            "27  2019.0               10503.75         406.40   \n",
            "28  2020.0               11596.60         430.21   \n",
            "29  2021.0               14017.80         514.41   \n",
            "30     NaN               13376.21         380.00   \n",
            "31     NaN               13768.40         358.72   \n",
            "\n",
            "    Кількість кг хліба[20] на середню зарплату  \\\n",
            "0                                      1015.67   \n",
            "1                                       430.42   \n",
            "2                                       372.76   \n",
            "3                                       201.76   \n",
            "4                                       198.62   \n",
            "5                                       211.13   \n",
            "6                                       177.69   \n",
            "7                                       180.68   \n",
            "8                                       117.51   \n",
            "9                                       153.57   \n",
            "10                                      213.84   \n",
            "11                                      276.27   \n",
            "12                                      276.06   \n",
            "13                                      332.05   \n",
            "14                                      441.28   \n",
            "15                                      498.66   \n",
            "16                                      585.00   \n",
            "17                                      497.02   \n",
            "18                                      527.82   \n",
            "19                                      564.37   \n",
            "20                                      585.38   \n",
            "21                                      625.00   \n",
            "22                                      642.39   \n",
            "23                                      517.22   \n",
            "24                                      441.05   \n",
            "25                                      450.35   \n",
            "26                                      497.05   \n",
            "27                                      528.09   \n",
            "28                                      549.08   \n",
            "29                                      560.03   \n",
            "30                                      409.57   \n",
            "31                                      387.62   \n",
            "\n",
            "    Кількість БігМаків на середню зарплату  \n",
            "0                                      NaN  \n",
            "1                                      NaN  \n",
            "2                                      NaN  \n",
            "3                                      NaN  \n",
            "4                                      NaN  \n",
            "5                                      NaN  \n",
            "6                                      NaN  \n",
            "7                                      NaN  \n",
            "8                                      NaN  \n",
            "9                                      NaN  \n",
            "10                                     NaN  \n",
            "11                                     NaN  \n",
            "12                                    81.0  \n",
            "13                                   111.0  \n",
            "14                                   123.0  \n",
            "15                                   146.0  \n",
            "16                                   164.0  \n",
            "17                                   136.0  \n",
            "18                                   155.0  \n",
            "19                                   160.0  \n",
            "20                                   202.0  \n",
            "21                                   172.0  \n",
            "22                                   182.0  \n",
            "23                                   124.0  \n",
            "24                                   133.0  \n",
            "25                                   161.0  \n",
            "26                                   177.0  \n",
            "27                                   184.0  \n",
            "28                                   187.0  \n",
            "29                                   216.0  \n",
            "30                                   132.0  \n",
            "31                                   131.0  \n"
          ]
        }
      ]
    },
    {
      "cell_type": "markdown",
      "source": [
        "8. Порахуйте частку пропусків в кожній колонці (за допомогою методів isnull , sum, len)"
      ],
      "metadata": {
        "id": "eHrqPR999LiV"
      }
    },
    {
      "cell_type": "code",
      "source": [
        "# Частка пропусків в кожній колонці\n",
        "missing_percentage = (df_numeric.isnull().sum() / len(df)) * 100\n",
        "\n",
        "# Вивід результатів\n",
        "print(\"Частка пропусків в кожній колонці:\")\n",
        "print(missing_percentage)"
      ],
      "metadata": {
        "colab": {
          "base_uri": "https://localhost:8080/"
        },
        "id": "M40c40xA9Q40",
        "outputId": "fbb1f417-9824-4621-a499-776710641ec0"
      },
      "execution_count": 8,
      "outputs": [
        {
          "output_type": "stream",
          "name": "stdout",
          "text": [
            "Частка пропусків в кожній колонці:\n",
            "Рік                                            6.25\n",
            "В національній валюті                          0.00\n",
            "В доларах США                                  0.00\n",
            "Кількість кг хліба[20] на середню зарплату     0.00\n",
            "Кількість БігМаків на середню зарплату        37.50\n",
            "dtype: float64\n"
          ]
        }
      ]
    },
    {
      "cell_type": "markdown",
      "source": [
        "9. Замініть всі пропущені значення на середні значення по (стовпцю)"
      ],
      "metadata": {
        "id": "i_dxqrgL9ZFE"
      }
    },
    {
      "cell_type": "code",
      "source": [
        "# Заміна пропущених значень на середні значення по стовпцях\n",
        "df_filled = df_numeric.fillna(df_numeric.mean())\n",
        "print(df_filled)"
      ],
      "metadata": {
        "colab": {
          "base_uri": "https://localhost:8080/"
        },
        "id": "5y4qW57e9fXs",
        "outputId": "27850a2f-89cb-4bf6-a317-9118eb8eb1bd"
      },
      "execution_count": 9,
      "outputs": [
        {
          "output_type": "stream",
          "name": "stdout",
          "text": [
            "       Рік  В національній валюті  В доларах США  \\\n",
            "0   1992.0                5832.88          28.04   \n",
            "1   1993.0              163533.00          36.03   \n",
            "2   1994.0             1426343.00          44.99   \n",
            "3   1995.0             7304000.00          49.53   \n",
            "4   1996.0                 125.23          68.45   \n",
            "5   1997.0                 143.09          76.86   \n",
            "6   1998.0                 152.83          62.39   \n",
            "7   1999.0                 177.39          42.95   \n",
            "8   2000.0                 231.04          42.47   \n",
            "9   2001.0                 311.62          58.01   \n",
            "10  2002.0                 375.98          70.59   \n",
            "11  2003.0                 462.58          86.74   \n",
            "12  2004.0                 590.53         111.02   \n",
            "13  2005.0                 806.14         157.30   \n",
            "14  2006.0                1042.88         206.51   \n",
            "15  2007.0                1352.75         267.87   \n",
            "16  2008.0                1808.92         343.43   \n",
            "17  2009.0                1909.25         245.05   \n",
            "18  2010.0                2246.75         283.12   \n",
            "19  2011.0                2639.17         331.24   \n",
            "20  2012.0                3031.92         379.42   \n",
            "21  2013.0                3273.82         409.59   \n",
            "22  2014.0                3474.75         292.32   \n",
            "23  2015.0                4207.33         162.60   \n",
            "24  2016.0                5187.33         203.02   \n",
            "25  2017.0                7105.42         267.16   \n",
            "26  2018.0                8867.33         325.99   \n",
            "27  2019.0               10503.75         406.40   \n",
            "28  2020.0               11596.60         430.21   \n",
            "29  2021.0               14017.80         514.41   \n",
            "30  2006.5               13376.21         380.00   \n",
            "31  2006.5               13768.40         358.72   \n",
            "\n",
            "    Кількість кг хліба[20] на середню зарплату  \\\n",
            "0                                      1015.67   \n",
            "1                                       430.42   \n",
            "2                                       372.76   \n",
            "3                                       201.76   \n",
            "4                                       198.62   \n",
            "5                                       211.13   \n",
            "6                                       177.69   \n",
            "7                                       180.68   \n",
            "8                                       117.51   \n",
            "9                                       153.57   \n",
            "10                                      213.84   \n",
            "11                                      276.27   \n",
            "12                                      276.06   \n",
            "13                                      332.05   \n",
            "14                                      441.28   \n",
            "15                                      498.66   \n",
            "16                                      585.00   \n",
            "17                                      497.02   \n",
            "18                                      527.82   \n",
            "19                                      564.37   \n",
            "20                                      585.38   \n",
            "21                                      625.00   \n",
            "22                                      642.39   \n",
            "23                                      517.22   \n",
            "24                                      441.05   \n",
            "25                                      450.35   \n",
            "26                                      497.05   \n",
            "27                                      528.09   \n",
            "28                                      549.08   \n",
            "29                                      560.03   \n",
            "30                                      409.57   \n",
            "31                                      387.62   \n",
            "\n",
            "    Кількість БігМаків на середню зарплату  \n",
            "0                                   153.85  \n",
            "1                                   153.85  \n",
            "2                                   153.85  \n",
            "3                                   153.85  \n",
            "4                                   153.85  \n",
            "5                                   153.85  \n",
            "6                                   153.85  \n",
            "7                                   153.85  \n",
            "8                                   153.85  \n",
            "9                                   153.85  \n",
            "10                                  153.85  \n",
            "11                                  153.85  \n",
            "12                                   81.00  \n",
            "13                                  111.00  \n",
            "14                                  123.00  \n",
            "15                                  146.00  \n",
            "16                                  164.00  \n",
            "17                                  136.00  \n",
            "18                                  155.00  \n",
            "19                                  160.00  \n",
            "20                                  202.00  \n",
            "21                                  172.00  \n",
            "22                                  182.00  \n",
            "23                                  124.00  \n",
            "24                                  133.00  \n",
            "25                                  161.00  \n",
            "26                                  177.00  \n",
            "27                                  184.00  \n",
            "28                                  187.00  \n",
            "29                                  216.00  \n",
            "30                                  132.00  \n",
            "31                                  131.00  \n"
          ]
        }
      ]
    },
    {
      "cell_type": "markdown",
      "source": [
        "10. Знайдіть рік з найвищою зарплатою в Україні в грн і вкажіть цю зарплату."
      ],
      "metadata": {
        "id": "UIOI7XJ9-Akm"
      }
    },
    {
      "cell_type": "code",
      "source": [
        "# Знаходження року з найвищою зарплатою\n",
        "id_of_column_salary_in_usd = 2\n",
        "year_with_highest_salary_index = df_numeric[df_numeric.columns[id_of_column_salary_in_usd]].idxmax()\n",
        "year_with_highest_salary = df_numeric.iat[year_with_highest_salary_index, 0]\n",
        "\n",
        "# Отримання значення зарплати в цьому році\n",
        "highest_salary = df_numeric.at[year_with_highest_salary_index, df_numeric.columns[id_of_column_salary_in_usd]]\n",
        "\n",
        "print(f'Рік з найвищою зарплатою: {year_with_highest_salary}')\n",
        "print(f'Найвища зарплата в Україні в доларах: {highest_salary} usd')"
      ],
      "metadata": {
        "colab": {
          "base_uri": "https://localhost:8080/"
        },
        "id": "fy5kQq33-Gtt",
        "outputId": "74d15482-1bbd-4b91-f8e7-befd2b8caed1"
      },
      "execution_count": 10,
      "outputs": [
        {
          "output_type": "stream",
          "name": "stdout",
          "text": [
            "Рік з найвищою зарплатою: 2021.0\n",
            "Найвища зарплата в Україні в доларах: 514.41 usd\n"
          ]
        }
      ]
    },
    {
      "cell_type": "markdown",
      "source": [
        "11. Знайдіть рік з мінімальною  зарплатою в Україні в дол. США і вкажіть цю зарплату."
      ],
      "metadata": {
        "id": "-Yo5WnE_-dxt"
      }
    },
    {
      "cell_type": "code",
      "source": [
        "id_of_column_salary_in_usd = 2\n",
        "year_with_highest_salary_index = df_numeric[df_numeric.columns[id_of_column_salary_in_usd]].idxmin()\n",
        "year_with_highest_salary = df_numeric.iat[year_with_highest_salary_index, 0]\n",
        "\n",
        "# Отримання значення зарплати в цьому році\n",
        "highest_salary = df_numeric.at[year_with_highest_salary_index, df_numeric.columns[id_of_column_salary_in_usd]]\n",
        "\n",
        "print(f'Рік з найнижчою зарплатою: {year_with_highest_salary}')\n",
        "print(f'Найнижчою зарплата в Україні в доларах: {highest_salary} usd')"
      ],
      "metadata": {
        "colab": {
          "base_uri": "https://localhost:8080/"
        },
        "id": "oBmmzs6y-jIN",
        "outputId": "a8dd9646-8e1c-4209-86d4-0cd6b3f2afea"
      },
      "execution_count": 11,
      "outputs": [
        {
          "output_type": "stream",
          "name": "stdout",
          "text": [
            "Рік з найнижчою зарплатою: 1992.0\n",
            "Найнижчою зарплата в Україні в доларах: 28.04 usd\n"
          ]
        }
      ]
    },
    {
      "cell_type": "markdown",
      "source": [
        "12. Виведіть роки, коли зарплата в грн була вище середньої"
      ],
      "metadata": {
        "id": "kni3cQqD-sr-"
      }
    },
    {
      "cell_type": "code",
      "source": [
        "# Розрахунок середньої зарплати в гривнях\n",
        "average_salary_gbp = df_numeric[column_name_usd].mean()\n",
        "\n",
        "# Вибір років, де зарплата в гривнях була вище середньої\n",
        "years_above_average = df_numeric[df_numeric[column_name_usd] > average_salary_gbp]['Рік']\n",
        "\n",
        "# Вивід років\n",
        "print(\"Роки з зарплатою в гривнях вище середньої:\")\n",
        "print(years_above_average)"
      ],
      "metadata": {
        "colab": {
          "base_uri": "https://localhost:8080/"
        },
        "id": "7fNIZXk1-xF9",
        "outputId": "409cdfac-5f28-4f00-cd8f-7192e4fc4c98"
      },
      "execution_count": 12,
      "outputs": [
        {
          "output_type": "stream",
          "name": "stdout",
          "text": [
            "Роки з зарплатою в гривнях вище середньої:\n",
            "15    2007.0\n",
            "16    2008.0\n",
            "17    2009.0\n",
            "18    2010.0\n",
            "19    2011.0\n",
            "20    2012.0\n",
            "21    2013.0\n",
            "22    2014.0\n",
            "25    2017.0\n",
            "26    2018.0\n",
            "27    2019.0\n",
            "28    2020.0\n",
            "29    2021.0\n",
            "30       NaN\n",
            "31       NaN\n",
            "Name: Рік, dtype: float64\n"
          ]
        }
      ]
    },
    {
      "cell_type": "markdown",
      "source": [
        "13. Створіть графік, що відображає  зарплату в Україні з часом (за роками)."
      ],
      "metadata": {
        "id": "ULqg4-5m-552"
      }
    },
    {
      "cell_type": "code",
      "source": [
        "import requests\n",
        "from bs4 import BeautifulSoup\n",
        "import pandas as pd\n",
        "import matplotlib.pyplot as plt\n",
        "\n",
        "# Завантажуємо сторінку Вікіпедії\n",
        "url = \"https://uk.wikipedia.org/wiki/%D0%A1%D0%B5%D1%80%D0%B5%D0%B4%D0%BD%D1%8F_%D0%B7%D0%B0%D1%80%D0%BE%D0%B1%D1%96%D1%82%D0%BD%D0%B0_%D0%BF%D0%BB%D0%B0%D1%82%D0%B0_%D0%B2_%D0%A3%D0%BA%D1%80%D0%B0%D1%97%D0%BD%D1%96\"\n",
        "response = requests.get(url)\n",
        "\n",
        "# Створюємо об'єкт BeautifulSoup для аналізу сторінки\n",
        "soup = BeautifulSoup(response.text, \"html.parser\")\n",
        "\n",
        "# Знаходимо таблицю з даними\n",
        "table = soup.find(\"table\", {\"class\": \"wikitable\"})\n",
        "\n",
        "# Створюємо пустий список для даних\n",
        "data = []\n",
        "\n",
        "# Знаходимо рядки з даними\n",
        "data_rows = table.find_all(\"tr\")[1:]  # Пропускаємо заголовок таблиці\n",
        "\n",
        "# Додаємо дані в список\n",
        "for row in data_rows:\n",
        "    columns = row.find_all(\"td\")\n",
        "    row_data = [column.get_text().strip() for column in columns]\n",
        "    data.append(row_data)\n",
        "\n",
        "# Створюємо DataFrame з даними\n",
        "df = pd.DataFrame(data)\n",
        "\n",
        "# Замінюємо тип нечислових даних на числові\n",
        "df = df.apply(pd.to_numeric, errors=\"coerce\")\n",
        "\n",
        "# Вибираємо стовпці, які представляють роки зарплати та середню зарплату\n",
        "year_columns = df.iloc[:, 1:-1]\n",
        "\n",
        "# Знаходимо роки та середню зарплату\n",
        "years = df.iloc[:, 1]\n",
        "average_salaries = df.iloc[:, -1]\n",
        "\n",
        "# Створюємо графік\n",
        "plt.figure(figsize=(12, 6))\n",
        "plt.plot(years, average_salaries, marker='o', linestyle='-')\n",
        "plt.title(\"Середня зарплата в Україні за роками\")\n",
        "plt.xlabel(\"Рік\")\n",
        "plt.ylabel(\"Середня зарплата (грн)\")\n",
        "plt.grid(True)\n",
        "plt.xticks(rotation=45)\n",
        "plt.tight_layout()\n",
        "\n",
        "# Відображаємо графік\n",
        "plt.show()\n"
      ],
      "metadata": {
        "colab": {
          "base_uri": "https://localhost:8080/",
          "height": 607
        },
        "id": "mnyFoMCk--8P",
        "outputId": "a5a81f21-fa7a-46f6-e66a-bdf902bd48e9"
      },
      "execution_count": null,
      "outputs": [
        {
          "output_type": "display_data",
          "data": {
            "text/plain": [
              "<Figure size 1200x600 with 1 Axes>"
            ],
            "image/png": "[encoded data removed]"
          },
          "metadata": {}
        }
      ]
    },
    {
      "cell_type": "markdown",
      "source": [
        "14. Видаліть останній рік з таблиці та виведіть оновлену таблицю."
      ],
      "metadata": {
        "id": "eTgWEfLy_G1W"
      }
    },
    {
      "cell_type": "code",
      "source": [
        "# Видалення останнього року з таблиці\n",
        "df_numeric = df_numeric.drop(df_numeric.index[-1])\n",
        "\n",
        "# Виведення оновленої таблиці\n",
        "print(df_numeric)"
      ],
      "metadata": {
        "colab": {
          "base_uri": "https://localhost:8080/"
        },
        "id": "xB2vlkp2_MRl",
        "outputId": "2f7f7bc1-32ee-4e8a-cb2b-2f6ba80dd109"
      },
      "execution_count": 13,
      "outputs": [
        {
          "output_type": "stream",
          "name": "stdout",
          "text": [
            "       Рік  В національній валюті  В доларах США  \\\n",
            "0   1992.0                5832.88          28.04   \n",
            "1   1993.0              163533.00          36.03   \n",
            "2   1994.0             1426343.00          44.99   \n",
            "3   1995.0             7304000.00          49.53   \n",
            "4   1996.0                 125.23          68.45   \n",
            "5   1997.0                 143.09          76.86   \n",
            "6   1998.0                 152.83          62.39   \n",
            "7   1999.0                 177.39          42.95   \n",
            "8   2000.0                 231.04          42.47   \n",
            "9   2001.0                 311.62          58.01   \n",
            "10  2002.0                 375.98          70.59   \n",
            "11  2003.0                 462.58          86.74   \n",
            "12  2004.0                 590.53         111.02   \n",
            "13  2005.0                 806.14         157.30   \n",
            "14  2006.0                1042.88         206.51   \n",
            "15  2007.0                1352.75         267.87   \n",
            "16  2008.0                1808.92         343.43   \n",
            "17  2009.0                1909.25         245.05   \n",
            "18  2010.0                2246.75         283.12   \n",
            "19  2011.0                2639.17         331.24   \n",
            "20  2012.0                3031.92         379.42   \n",
            "21  2013.0                3273.82         409.59   \n",
            "22  2014.0                3474.75         292.32   \n",
            "23  2015.0                4207.33         162.60   \n",
            "24  2016.0                5187.33         203.02   \n",
            "25  2017.0                7105.42         267.16   \n",
            "26  2018.0                8867.33         325.99   \n",
            "27  2019.0               10503.75         406.40   \n",
            "28  2020.0               11596.60         430.21   \n",
            "29  2021.0               14017.80         514.41   \n",
            "30     NaN               13376.21         380.00   \n",
            "\n",
            "    Кількість кг хліба[20] на середню зарплату  \\\n",
            "0                                      1015.67   \n",
            "1                                       430.42   \n",
            "2                                       372.76   \n",
            "3                                       201.76   \n",
            "4                                       198.62   \n",
            "5                                       211.13   \n",
            "6                                       177.69   \n",
            "7                                       180.68   \n",
            "8                                       117.51   \n",
            "9                                       153.57   \n",
            "10                                      213.84   \n",
            "11                                      276.27   \n",
            "12                                      276.06   \n",
            "13                                      332.05   \n",
            "14                                      441.28   \n",
            "15                                      498.66   \n",
            "16                                      585.00   \n",
            "17                                      497.02   \n",
            "18                                      527.82   \n",
            "19                                      564.37   \n",
            "20                                      585.38   \n",
            "21                                      625.00   \n",
            "22                                      642.39   \n",
            "23                                      517.22   \n",
            "24                                      441.05   \n",
            "25                                      450.35   \n",
            "26                                      497.05   \n",
            "27                                      528.09   \n",
            "28                                      549.08   \n",
            "29                                      560.03   \n",
            "30                                      409.57   \n",
            "\n",
            "    Кількість БігМаків на середню зарплату  \n",
            "0                                      NaN  \n",
            "1                                      NaN  \n",
            "2                                      NaN  \n",
            "3                                      NaN  \n",
            "4                                      NaN  \n",
            "5                                      NaN  \n",
            "6                                      NaN  \n",
            "7                                      NaN  \n",
            "8                                      NaN  \n",
            "9                                      NaN  \n",
            "10                                     NaN  \n",
            "11                                     NaN  \n",
            "12                                    81.0  \n",
            "13                                   111.0  \n",
            "14                                   123.0  \n",
            "15                                   146.0  \n",
            "16                                   164.0  \n",
            "17                                   136.0  \n",
            "18                                   155.0  \n",
            "19                                   160.0  \n",
            "20                                   202.0  \n",
            "21                                   172.0  \n",
            "22                                   182.0  \n",
            "23                                   124.0  \n",
            "24                                   133.0  \n",
            "25                                   161.0  \n",
            "26                                   177.0  \n",
            "27                                   184.0  \n",
            "28                                   187.0  \n",
            "29                                   216.0  \n",
            "30                                   132.0  \n"
          ]
        }
      ]
    },
    {
      "cell_type": "markdown",
      "source": [
        "15. Побудуйте графік, що відображає середню зарплату в Україні в розрізі років без останнього року."
      ],
      "metadata": {
        "id": "NOwmH_yv_cs8"
      }
    },
    {
      "cell_type": "code",
      "source": [
        "import matplotlib.pyplot as plt\n",
        "\n",
        "# Визначення даних для графіка\n",
        "years = df_numeric['Рік']\n",
        "salaries = df_numeric[column_name_usd]\n",
        "\n",
        "# Створення графіка\n",
        "plt.figure(figsize=(12, 6))\n",
        "plt.plot(years, salaries, marker='o', linestyle='-')\n",
        "plt.title('Зарплата в Україні за роками')\n",
        "plt.xlabel('Рік')\n",
        "plt.ylabel('Зарплата в гривнях')\n",
        "plt.grid(True)\n",
        "\n",
        "# Відображення графіка\n",
        "plt.show()"
      ],
      "metadata": {
        "colab": {
          "base_uri": "https://localhost:8080/",
          "height": 564
        },
        "id": "d2qhDxa4_nQO",
        "outputId": "ff757f2d-b5f3-4188-f8f3-0028e2f7d948"
      },
      "execution_count": 14,
      "outputs": [
        {
          "output_type": "display_data",
          "data": {
            "text/plain": [
              "<Figure size 1200x600 with 1 Axes>"
            ],
            "image/png": "[encoded data removed]"
          },
          "metadata": {}
        }
      ]
    },
    {
      "cell_type": "markdown",
      "source": [
        "16. Обчисліть зарплату за останні два роки і порівняйте її із зарплатою за останні 5 років. Вкажіть, чи є різниця, і в якому напрямку."
      ],
      "metadata": {
        "id": "IthM9Hk6_psd"
      }
    },
    {
      "cell_type": "code",
      "source": [
        "# Вибір даних за останні два роки\n",
        "last_two_years = df_numeric.tail(2)[column_name_usd]\n",
        "\n",
        "# Вибір даних за останні п'ять років\n",
        "last_five_years = df_numeric.tail(5)[column_name_usd]\n",
        "\n",
        "# Обчислення різниці між зарплатою за останніми двома та п'ятьма роками\n",
        "difference = last_two_years.mean() - last_five_years.mean()\n",
        "\n",
        "# Порівняння різниці та виведення результату\n",
        "if difference > 0:\n",
        "    print(f\"Зарплата за останні два роки більша на {abs(difference)} usd\")\n",
        "elif difference < 0:\n",
        "    print(f\"Зарплата за останні два роки менша на {abs(difference)} usd\")\n",
        "else:\n",
        "    print(\"Зарплата за останні два роки така ж, як за останні п'ять років\")"
      ],
      "metadata": {
        "colab": {
          "base_uri": "https://localhost:8080/"
        },
        "id": "3GVwGY1p_uH9",
        "outputId": "41f7e12f-d1fe-4797-a0bf-5957495af859"
      },
      "execution_count": 15,
      "outputs": [
        {
          "output_type": "stream",
          "name": "stdout",
          "text": [
            "Зарплата за останні два роки більша на 35.803000000000054 usd\n"
          ]
        }
      ]
    },
    {
      "cell_type": "markdown",
      "source": [
        "# Висновок: В цій практичній роботі я виконала ряд завдань пов'язаних з аналізом даних про середню щомісячну зарплату в Україні за роками. Для цього я використовувала Python та такі бібліотеки,  як requests для завантаження веб-сторінки, beautifulsoup4 для аналізу HTML-коду та pandas для роботи з даними"
      ],
      "metadata": {
        "id": "cD5YDEyqBDrN"
      }
    }
  ]
}