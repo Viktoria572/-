{
  "nbformat": 4,
  "nbformat_minor": 0,
  "metadata": {
    "colab": {
      "provenance": []
    },
    "kernelspec": {
      "name": "python3",
      "display_name": "Python 3"
    },
    "language_info": {
      "name": "python"
    }
  },
  "cells": [
    {
      "cell_type": "markdown",
      "source": [
        "# Підсумкова контрольна робота Машинне навчання. Виконала Яременко Вікторія"
      ],
      "metadata": {
        "id": "6J641nFC7qyL"
      }
    },
    {
      "cell_type": "markdown",
      "source": [
        "Завдання 1"
      ],
      "metadata": {
        "id": "qHWDOJpL_MIB"
      }
    },
    {
      "cell_type": "code",
      "execution_count": null,
      "metadata": {
        "colab": {
          "base_uri": "https://localhost:8080/"
        },
        "id": "qL6HCRCt5bQo",
        "outputId": "212512d5-7cac-48f5-def6-01363b467ff1"
      },
      "outputs": [
        {
          "output_type": "stream",
          "name": "stdout",
          "text": [
            "   rank                    Youtuber  subscribers   video views  \\\n",
            "0     1                    T-Series    245000000  2.280000e+11   \n",
            "1     2              YouTube Movies    170000000  0.000000e+00   \n",
            "2     3                     MrBeast    166000000  2.836884e+10   \n",
            "3     4  Cocomelon - Nursery Rhymes    162000000  1.640000e+11   \n",
            "4     5                   SET India    159000000  1.480000e+11   \n",
            "\n",
            "           category                       Title  uploads        Country  \\\n",
            "0             Music                    T-Series    20082          India   \n",
            "1  Film & Animation               youtubemovies        1  United States   \n",
            "2     Entertainment                     MrBeast      741  United States   \n",
            "3         Education  Cocomelon - Nursery Rhymes      966  United States   \n",
            "4             Shows                   SET India   116536          India   \n",
            "\n",
            "  Abbreviation   channel_type  ...  subscribers_for_last_30_days  \\\n",
            "0           IN          Music  ...                     2000000.0   \n",
            "1           US          Games  ...                           NaN   \n",
            "2           US  Entertainment  ...                     8000000.0   \n",
            "3           US      Education  ...                     1000000.0   \n",
            "4           IN  Entertainment  ...                     1000000.0   \n",
            "\n",
            "   created_year  created_month  created_date  \\\n",
            "0        2006.0            Mar          13.0   \n",
            "1        2006.0            Mar           5.0   \n",
            "2        2012.0            Feb          20.0   \n",
            "3        2006.0            Sep           1.0   \n",
            "4        2006.0            Sep          20.0   \n",
            "\n",
            "   Gross tertiary education enrollment (%)    Population  Unemployment rate  \\\n",
            "0                                     28.1  1.366418e+09               5.36   \n",
            "1                                     88.2  3.282395e+08              14.70   \n",
            "2                                     88.2  3.282395e+08              14.70   \n",
            "3                                     88.2  3.282395e+08              14.70   \n",
            "4                                     28.1  1.366418e+09               5.36   \n",
            "\n",
            "   Urban_population   Latitude  Longitude  \n",
            "0       471031528.0  20.593684  78.962880  \n",
            "1       270663028.0  37.090240 -95.712891  \n",
            "2       270663028.0  37.090240 -95.712891  \n",
            "3       270663028.0  37.090240 -95.712891  \n",
            "4       471031528.0  20.593684  78.962880  \n",
            "\n",
            "[5 rows x 28 columns]\n"
          ]
        }
      ],
      "source": [
        "import pandas as pd\n",
        "import numpy as np\n",
        "import matplotlib.pyplot as plt\n",
        "\n",
        "# загрузити дата сет, прочитати csv файл, вивести перші п'ять рядків\n",
        "\n",
        "df = pd.read_csv(\"/content/sample_data/Global YouTube Statistics.csv\", encoding='latin-1')\n",
        "df_head_5 = df.head(5)\n",
        "print(df_head_5)"
      ]
    },
    {
      "cell_type": "code",
      "source": [
        "# Вивести розміри датасету\n",
        "print(\"Розмір датасету:\")\n",
        "print(df.shape)\n",
        "\n",
        "# Перевірити пропуски\n",
        "print(\"\\nПропуски:\")\n",
        "print(df.isnull().sum())\n",
        "\n",
        "# Перевірити дублікати\n",
        "print(\"\\nДублікати:\")\n",
        "print(df.duplicated().sum())"
      ],
      "metadata": {
        "colab": {
          "base_uri": "https://localhost:8080/"
        },
        "id": "ljClxfSO8bR6",
        "outputId": "029710f9-7ebb-42ab-f429-1cece32719d5"
      },
      "execution_count": null,
      "outputs": [
        {
          "output_type": "stream",
          "name": "stdout",
          "text": [
            "Розмір датасету:\n",
            "(995, 28)\n",
            "\n",
            "Пропуски:\n",
            "rank                                         0\n",
            "Youtuber                                     0\n",
            "subscribers                                  0\n",
            "video views                                  0\n",
            "category                                    46\n",
            "Title                                        0\n",
            "uploads                                      0\n",
            "Country                                    122\n",
            "Abbreviation                               122\n",
            "channel_type                                30\n",
            "video_views_rank                             1\n",
            "country_rank                               116\n",
            "channel_type_rank                           33\n",
            "video_views_for_the_last_30_days            56\n",
            "lowest_monthly_earnings                      0\n",
            "highest_monthly_earnings                     0\n",
            "lowest_yearly_earnings                       0\n",
            "highest_yearly_earnings                      0\n",
            "subscribers_for_last_30_days               337\n",
            "created_year                                 5\n",
            "created_month                                5\n",
            "created_date                                 5\n",
            "Gross tertiary education enrollment (%)    123\n",
            "Population                                 123\n",
            "Unemployment rate                          123\n",
            "Urban_population                           123\n",
            "Latitude                                   123\n",
            "Longitude                                  123\n",
            "dtype: int64\n",
            "\n",
            "Дублікати:\n",
            "0\n"
          ]
        }
      ]
    },
    {
      "cell_type": "code",
      "source": [
        "# Замінити пропуски на середнє значення та змінити тип даних на float для числових стовпців\n",
        "numeric_columns = df.select_dtypes(include=['float64', 'int64']).columns\n",
        "df[numeric_columns] = df[numeric_columns].fillna(df[numeric_columns].mean())\n",
        "\n",
        "# Замінити пропуски у строкових стовпцях на \"Unknown\"\n",
        "string_columns = df.select_dtypes(include=['object']).columns\n",
        "df[string_columns] = df[string_columns].fillna('Unknown')\n",
        "\n",
        "# Видалити рядки, де є пропуски у числових стовпцях\n",
        "df = df.dropna(subset=numeric_columns)\n",
        "\n",
        "# Вивести розміри датасету\n",
        "print(\"Розмір датасету після обробки пропусків:\")\n",
        "print(df.shape)\n",
        "\n",
        "# Перевірити кількість пропусків (повинно бути всюди 0)\n",
        "print(\"\\nКількість пропусків після обробки:\")\n",
        "print(df.isnull().sum())"
      ],
      "metadata": {
        "colab": {
          "base_uri": "https://localhost:8080/"
        },
        "id": "bXFhaF949I9y",
        "outputId": "51d372f8-9fa2-4fb4-c9ed-10fca963b83b"
      },
      "execution_count": null,
      "outputs": [
        {
          "output_type": "stream",
          "name": "stdout",
          "text": [
            "Розмір датасету після обробки пропусків:\n",
            "(995, 28)\n",
            "\n",
            "Кількість пропусків після обробки:\n",
            "rank                                       0\n",
            "Youtuber                                   0\n",
            "subscribers                                0\n",
            "video views                                0\n",
            "category                                   0\n",
            "Title                                      0\n",
            "uploads                                    0\n",
            "Country                                    0\n",
            "Abbreviation                               0\n",
            "channel_type                               0\n",
            "video_views_rank                           0\n",
            "country_rank                               0\n",
            "channel_type_rank                          0\n",
            "video_views_for_the_last_30_days           0\n",
            "lowest_monthly_earnings                    0\n",
            "highest_monthly_earnings                   0\n",
            "lowest_yearly_earnings                     0\n",
            "highest_yearly_earnings                    0\n",
            "subscribers_for_last_30_days               0\n",
            "created_year                               0\n",
            "created_month                              0\n",
            "created_date                               0\n",
            "Gross tertiary education enrollment (%)    0\n",
            "Population                                 0\n",
            "Unemployment rate                          0\n",
            "Urban_population                           0\n",
            "Latitude                                   0\n",
            "Longitude                                  0\n",
            "dtype: int64\n"
          ]
        }
      ]
    },
    {
      "cell_type": "code",
      "source": [
        "# Перевірити кількість пропусків (повинно бути всюди 0)\n",
        "print(\"\\nКількість пропусків після заміни:\")\n",
        "print(df.isnull().sum())\n"
      ],
      "metadata": {
        "colab": {
          "base_uri": "https://localhost:8080/"
        },
        "id": "XgKbvy1w9f_h",
        "outputId": "a0234b7a-a3b1-443f-b820-ec8983b023de"
      },
      "execution_count": null,
      "outputs": [
        {
          "output_type": "stream",
          "name": "stdout",
          "text": [
            "\n",
            "Кількість пропусків після заміни:\n",
            "rank                                       0\n",
            "Youtuber                                   0\n",
            "subscribers                                0\n",
            "video views                                0\n",
            "category                                   0\n",
            "Title                                      0\n",
            "uploads                                    0\n",
            "Country                                    0\n",
            "Abbreviation                               0\n",
            "channel_type                               0\n",
            "video_views_rank                           0\n",
            "country_rank                               0\n",
            "channel_type_rank                          0\n",
            "video_views_for_the_last_30_days           0\n",
            "lowest_monthly_earnings                    0\n",
            "highest_monthly_earnings                   0\n",
            "lowest_yearly_earnings                     0\n",
            "highest_yearly_earnings                    0\n",
            "subscribers_for_last_30_days               0\n",
            "created_year                               0\n",
            "created_month                              0\n",
            "created_date                               0\n",
            "Gross tertiary education enrollment (%)    0\n",
            "Population                                 0\n",
            "Unemployment rate                          0\n",
            "Urban_population                           0\n",
            "Latitude                                   0\n",
            "Longitude                                  0\n",
            "dtype: int64\n"
          ]
        }
      ]
    },
    {
      "cell_type": "code",
      "source": [
        "# Перевірити кількість унікальних країн у стовпці \"Country\"\n",
        "unique_countries = df['Country'].nunique()\n",
        "\n",
        "# Вивести кількість унікальних країн\n",
        "print(\"Кількість унікальних країн:\", unique_countries)\n"
      ],
      "metadata": {
        "colab": {
          "base_uri": "https://localhost:8080/"
        },
        "id": "dF5PWWQt-FwZ",
        "outputId": "f412ab72-eb63-4a6d-9461-14c8215a3cb4"
      },
      "execution_count": null,
      "outputs": [
        {
          "output_type": "stream",
          "name": "stdout",
          "text": [
            "Кількість унікальних країн: 50\n"
          ]
        }
      ]
    },
    {
      "cell_type": "code",
      "source": [
        "# Побудувати діаграму розподілу переглядів\n",
        "df['video views'].plot(kind='hist', bins=50, edgecolor='black', figsize=(10, 6))\n",
        "plt.title('Розподіл переглядів')\n",
        "plt.xlabel('Кількість переглядів')\n",
        "plt.ylabel('Частота')\n",
        "plt.show()\n"
      ],
      "metadata": {
        "colab": {
          "base_uri": "https://localhost:8080/",
          "height": 564
        },
        "id": "ZPL6vwFJ-ai5",
        "outputId": "212a9138-796b-4982-cc14-addb91e84836"
      },
      "execution_count": null,
      "outputs": [
        {
          "output_type": "display_data",
          "data": {
            "text/plain": [
              "<Figure size 1000x600 with 1 Axes>"
            ],
            "image/png": "[encoded data removed]"
          },
          "metadata": {}
        }
      ]
    },
    {
      "cell_type": "code",
      "source": [
        "# Визначити максимальну, мінімальну та середню кількість переглядів\n",
        "max_views = df['video views'].max()\n",
        "min_views = df['video views'].min()\n",
        "mean_views = df['video views'].mean()\n",
        "\n",
        "# Вивести результати\n",
        "print(\"Максимальна кількість переглядів:\", max_views)\n",
        "print(\"Мінімальна кількість переглядів:\", min_views)\n",
        "print(\"Середня кількість переглядів:\", mean_views)\n"
      ],
      "metadata": {
        "colab": {
          "base_uri": "https://localhost:8080/"
        },
        "id": "UixPyanL-wv5",
        "outputId": "efeae2af-c1fa-486d-b174-217b7eb8125a"
      },
      "execution_count": null,
      "outputs": [
        {
          "output_type": "stream",
          "name": "stdout",
          "text": [
            "Максимальна кількість переглядів: 228000000000.0\n",
            "Мінімальна кількість переглядів: 0.0\n",
            "Середня кількість переглядів: 11039537052.03819\n"
          ]
        }
      ]
    },
    {
      "cell_type": "code",
      "source": [
        "# Знайти країну, де найбільше відео було завантажено на YouTube\n",
        "most_videos_country = df.loc[df['uploads'].idxmax()]['Country']\n",
        "\n",
        "# Вивести результат\n",
        "print(\"Країна з найбільшою кількістю завантажених відео:\", most_videos_country)\n"
      ],
      "metadata": {
        "colab": {
          "base_uri": "https://localhost:8080/"
        },
        "id": "NoJRx1P--54R",
        "outputId": "da8793a9-a926-46ee-9f55-e0ec437142c5"
      },
      "execution_count": null,
      "outputs": [
        {
          "output_type": "stream",
          "name": "stdout",
          "text": [
            "Країна з найбільшою кількістю завантажених відео: India\n"
          ]
        }
      ]
    },
    {
      "cell_type": "code",
      "source": [
        "# Знайти відео з найбільшою та найменшою кількістю завантажень uploads\n",
        "max_uploads_video = df.loc[df['uploads'].idxmax()]['Title']\n",
        "min_uploads_video = df.loc[df['uploads'].idxmin()]['Title']\n",
        "\n",
        "# Вивести результат\n",
        "print(\"Відео з найбільшою кількістю завантажень uploads:\", max_uploads_video)\n",
        "print(\"Відео з найменшою кількістю завантажень uploads:\", min_uploads_video)\n"
      ],
      "metadata": {
        "colab": {
          "base_uri": "https://localhost:8080/"
        },
        "id": "sfRDfaRN_HR5",
        "outputId": "3a8e1588-2b82-443b-fd1c-e3e2d1863497"
      },
      "execution_count": null,
      "outputs": [
        {
          "output_type": "stream",
          "name": "stdout",
          "text": [
            "Відео з найбільшою кількістю завантажень uploads: ABP NEWS\n",
            "Відео з найменшою кількістю завантажень uploads: Music\n"
          ]
        }
      ]
    },
    {
      "cell_type": "markdown",
      "source": [
        "Висновок: У цій практичній роботі я завантажила датасет з ресурсу Kaggle та прочитала його за допомогою бібліотеки Pandas у Python.\n",
        "\n",
        "Провела перевірку даних на наявність пропусків (порожніх значень) та замінила їх середніми значеннями по відповідним стовпцям.\n",
        "\n",
        "Визначила кількість унікальних країн, представлених у датасеті.\n",
        "\n",
        "Побудувала гістограму розподілу кількості переглядів відео.\n",
        "\n",
        "Визначила максимальну, мінімальну та середню кількість переглядів відео в датасеті.\n",
        "\n",
        "Знайшла країну, де найбільше відео було завантажено на YouTube.\n",
        "\n",
        "Знайшла відео з найбільшою та найменшою кількістю завантажень (\"uploads\")."
      ],
      "metadata": {
        "id": "tMh7UkVPShRB"
      }
    }
  ]
}